{
  "nbformat": 4,
  "nbformat_minor": 0,
  "metadata": {
    "accelerator": "GPU",
    "colab": {
      "name": "SMM-Project.ipynb",
      "provenance": [],
      "collapsed_sections": []
    },
    "kernelspec": {
      "display_name": "Python 3",
      "name": "python3"
    }
  },
  "cells": [
    {
      "cell_type": "code",
      "metadata": {
        "colab": {
          "base_uri": "https://localhost:8080/"
        },
        "id": "g420IWcqVO7r",
        "outputId": "b73c04ef-1167-4ddf-ef71-cfb38597db1e"
      },
      "source": [
        "from google.colab import drive\n",
        "drive.mount('/content/drive/')"
      ],
      "execution_count": 1,
      "outputs": [
        {
          "output_type": "stream",
          "text": [
            "Mounted at /content/drive/\n"
          ],
          "name": "stdout"
        }
      ]
    },
    {
      "cell_type": "code",
      "metadata": {
        "id": "lUgqfYUsV-3q"
      },
      "source": [
        "import pandas as pd\n",
        "\n",
        "import re\n",
        "\n",
        "import nltk\n",
        "from nltk.corpus import stopwords\n",
        "\n",
        "import matplotlib.pyplot as plt\n"
      ],
      "execution_count": 92,
      "outputs": []
    },
    {
      "cell_type": "code",
      "metadata": {
        "id": "PhfPV60VYo8w"
      },
      "source": [
        "df = pd.read_csv('/content/drive/My Drive/Data/ExtractedTweets.csv')"
      ],
      "execution_count": 3,
      "outputs": []
    },
    {
      "cell_type": "code",
      "metadata": {
        "colab": {
          "base_uri": "https://localhost:8080/",
          "height": 191
        },
        "id": "Lq1HWaAZZenC",
        "outputId": "3ced3219-eeb9-4c1b-f427-e69ed6658496"
      },
      "source": [
        "df.head()"
      ],
      "execution_count": 4,
      "outputs": [
        {
          "output_type": "execute_result",
          "data": {
            "text/html": [
              "<div>\n",
              "<style scoped>\n",
              "    .dataframe tbody tr th:only-of-type {\n",
              "        vertical-align: middle;\n",
              "    }\n",
              "\n",
              "    .dataframe tbody tr th {\n",
              "        vertical-align: top;\n",
              "    }\n",
              "\n",
              "    .dataframe thead th {\n",
              "        text-align: right;\n",
              "    }\n",
              "</style>\n",
              "<table border=\"1\" class=\"dataframe\">\n",
              "  <thead>\n",
              "    <tr style=\"text-align: right;\">\n",
              "      <th></th>\n",
              "      <th>Party</th>\n",
              "      <th>Handle</th>\n",
              "      <th>Tweet</th>\n",
              "    </tr>\n",
              "  </thead>\n",
              "  <tbody>\n",
              "    <tr>\n",
              "      <th>0</th>\n",
              "      <td>Democrat</td>\n",
              "      <td>RepDarrenSoto</td>\n",
              "      <td>Today, Senate Dems vote to #SaveTheInternet. P...</td>\n",
              "    </tr>\n",
              "    <tr>\n",
              "      <th>1</th>\n",
              "      <td>Democrat</td>\n",
              "      <td>RepDarrenSoto</td>\n",
              "      <td>RT @WinterHavenSun: Winter Haven resident / Al...</td>\n",
              "    </tr>\n",
              "    <tr>\n",
              "      <th>2</th>\n",
              "      <td>Democrat</td>\n",
              "      <td>RepDarrenSoto</td>\n",
              "      <td>RT @NBCLatino: .@RepDarrenSoto noted that Hurr...</td>\n",
              "    </tr>\n",
              "    <tr>\n",
              "      <th>3</th>\n",
              "      <td>Democrat</td>\n",
              "      <td>RepDarrenSoto</td>\n",
              "      <td>RT @NALCABPolicy: Meeting with @RepDarrenSoto ...</td>\n",
              "    </tr>\n",
              "    <tr>\n",
              "      <th>4</th>\n",
              "      <td>Democrat</td>\n",
              "      <td>RepDarrenSoto</td>\n",
              "      <td>RT @Vegalteno: Hurricane season starts on June...</td>\n",
              "    </tr>\n",
              "  </tbody>\n",
              "</table>\n",
              "</div>"
            ],
            "text/plain": [
              "      Party         Handle                                              Tweet\n",
              "0  Democrat  RepDarrenSoto  Today, Senate Dems vote to #SaveTheInternet. P...\n",
              "1  Democrat  RepDarrenSoto  RT @WinterHavenSun: Winter Haven resident / Al...\n",
              "2  Democrat  RepDarrenSoto  RT @NBCLatino: .@RepDarrenSoto noted that Hurr...\n",
              "3  Democrat  RepDarrenSoto  RT @NALCABPolicy: Meeting with @RepDarrenSoto ...\n",
              "4  Democrat  RepDarrenSoto  RT @Vegalteno: Hurricane season starts on June..."
            ]
          },
          "metadata": {
            "tags": []
          },
          "execution_count": 4
        }
      ]
    },
    {
      "cell_type": "code",
      "metadata": {
        "colab": {
          "base_uri": "https://localhost:8080/",
          "height": 162
        },
        "id": "N2XBQHCpZz-M",
        "outputId": "e9ac355e-65a6-49e8-b67e-2d26fd9ac44e"
      },
      "source": [
        "df.describe()"
      ],
      "execution_count": 5,
      "outputs": [
        {
          "output_type": "execute_result",
          "data": {
            "text/html": [
              "<div>\n",
              "<style scoped>\n",
              "    .dataframe tbody tr th:only-of-type {\n",
              "        vertical-align: middle;\n",
              "    }\n",
              "\n",
              "    .dataframe tbody tr th {\n",
              "        vertical-align: top;\n",
              "    }\n",
              "\n",
              "    .dataframe thead th {\n",
              "        text-align: right;\n",
              "    }\n",
              "</style>\n",
              "<table border=\"1\" class=\"dataframe\">\n",
              "  <thead>\n",
              "    <tr style=\"text-align: right;\">\n",
              "      <th></th>\n",
              "      <th>Party</th>\n",
              "      <th>Handle</th>\n",
              "      <th>Tweet</th>\n",
              "    </tr>\n",
              "  </thead>\n",
              "  <tbody>\n",
              "    <tr>\n",
              "      <th>count</th>\n",
              "      <td>86460</td>\n",
              "      <td>86460</td>\n",
              "      <td>86460</td>\n",
              "    </tr>\n",
              "    <tr>\n",
              "      <th>unique</th>\n",
              "      <td>2</td>\n",
              "      <td>433</td>\n",
              "      <td>84502</td>\n",
              "    </tr>\n",
              "    <tr>\n",
              "      <th>top</th>\n",
              "      <td>Republican</td>\n",
              "      <td>RepGuthrie</td>\n",
              "      <td>RT @RepDanKildee: Four years later, Flint fami...</td>\n",
              "    </tr>\n",
              "    <tr>\n",
              "      <th>freq</th>\n",
              "      <td>44392</td>\n",
              "      <td>200</td>\n",
              "      <td>31</td>\n",
              "    </tr>\n",
              "  </tbody>\n",
              "</table>\n",
              "</div>"
            ],
            "text/plain": [
              "             Party  ...                                              Tweet\n",
              "count        86460  ...                                              86460\n",
              "unique           2  ...                                              84502\n",
              "top     Republican  ...  RT @RepDanKildee: Four years later, Flint fami...\n",
              "freq         44392  ...                                                 31\n",
              "\n",
              "[4 rows x 3 columns]"
            ]
          },
          "metadata": {
            "tags": []
          },
          "execution_count": 5
        }
      ]
    },
    {
      "cell_type": "code",
      "metadata": {
        "colab": {
          "base_uri": "https://localhost:8080/"
        },
        "id": "5mQ-zPmB2CV4",
        "outputId": "2d775a13-8564-47ce-97c8-34819287719c"
      },
      "source": [
        "df.shape"
      ],
      "execution_count": 6,
      "outputs": [
        {
          "output_type": "execute_result",
          "data": {
            "text/plain": [
              "(86460, 3)"
            ]
          },
          "metadata": {
            "tags": []
          },
          "execution_count": 6
        }
      ]
    },
    {
      "cell_type": "code",
      "metadata": {
        "id": "wjsl7Og_CZbc"
      },
      "source": [
        "tweets = df.Tweet.values"
      ],
      "execution_count": 7,
      "outputs": []
    },
    {
      "cell_type": "code",
      "metadata": {
        "colab": {
          "base_uri": "https://localhost:8080/"
        },
        "id": "CeXVmhjrItmV",
        "outputId": "ac4a6d72-a6c0-4386-9765-70602febcb74"
      },
      "source": [
        "nltk.download('stopwords')\n",
        "nltk.download('punkt')\n",
        "nltk.download('wordnet')"
      ],
      "execution_count": 8,
      "outputs": [
        {
          "output_type": "stream",
          "text": [
            "[nltk_data] Downloading package stopwords to /root/nltk_data...\n",
            "[nltk_data]   Unzipping corpora/stopwords.zip.\n",
            "[nltk_data] Downloading package punkt to /root/nltk_data...\n",
            "[nltk_data]   Unzipping tokenizers/punkt.zip.\n",
            "[nltk_data] Downloading package wordnet to /root/nltk_data...\n",
            "[nltk_data]   Unzipping corpora/wordnet.zip.\n"
          ],
          "name": "stdout"
        },
        {
          "output_type": "execute_result",
          "data": {
            "text/plain": [
              "True"
            ]
          },
          "metadata": {
            "tags": []
          },
          "execution_count": 8
        }
      ]
    },
    {
      "cell_type": "code",
      "metadata": {
        "id": "rsrYbmvTDIlK"
      },
      "source": [
        "stopwords = stopwords.words('english')\n",
        "stopwords.append(\"rt\")"
      ],
      "execution_count": 9,
      "outputs": []
    },
    {
      "cell_type": "code",
      "metadata": {
        "id": "nj938uHhGoWa"
      },
      "source": [
        "Tweet_list = []\n",
        "for Tweet in tweets :\n",
        "  Tweet= re.sub(r\"https:(\\/\\/t\\.co\\/([A-Za-z0-9]|[A-Za-z]){10})\", \"\",Tweet)\n",
        "  #remove links\n",
        "  Tweet =re.sub(\"[^a-zA-Z]\",\" \",Tweet)\n",
        "  Tweet =re.sub(\"[\\s.]+\\s$\",\" \",Tweet)\n",
        "  #remove all characters except letters\n",
        "  Tweet = Tweet.lower()\n",
        "  Tweet = nltk.word_tokenize(Tweet)\n",
        "  Tweet = [word for word in Tweet if not word in set(stopwords)]\n",
        "  lemma = nltk.WordNetLemmatizer()\n",
        "  Tweet = [lemma.lemmatize(word) for word in Tweet]\n",
        "  Tweet = \" \".join(Tweet)\n",
        "  Tweet_list.append(Tweet)"
      ],
      "execution_count": 10,
      "outputs": []
    },
    {
      "cell_type": "code",
      "metadata": {
        "id": "Evo32aZZfYMO",
        "colab": {
          "base_uri": "https://localhost:8080/"
        },
        "outputId": "38e91c84-33ae-430f-f9b9-03809fdba464"
      },
      "source": [
        "pd.set_option('display.max_colwidth', -1)"
      ],
      "execution_count": 11,
      "outputs": [
        {
          "output_type": "stream",
          "text": [
            "/usr/local/lib/python3.6/dist-packages/ipykernel_launcher.py:1: FutureWarning: Passing a negative integer is deprecated in version 1.0 and will not be supported in future version. Instead, use None to not limit the column width.\n",
            "  \"\"\"Entry point for launching an IPython kernel.\n"
          ],
          "name": "stderr"
        }
      ]
    },
    {
      "cell_type": "code",
      "metadata": {
        "id": "hC0En1-ce9FU",
        "colab": {
          "base_uri": "https://localhost:8080/"
        },
        "outputId": "a13ae637-a517-44fa-e2dd-7cf1cc696375"
      },
      "source": [
        "df.head(10).Tweet"
      ],
      "execution_count": 12,
      "outputs": [
        {
          "output_type": "execute_result",
          "data": {
            "text/plain": [
              "0    Today, Senate Dems vote to #SaveTheInternet. Proud to support similar #NetNeutrality legislation here in the House… https://t.co/n3tggDLU1L   \n",
              "1    RT @WinterHavenSun: Winter Haven resident / Alta Vista teacher is one of several recognized by @RepDarrenSoto for National Teacher Apprecia…  \n",
              "2    RT @NBCLatino: .@RepDarrenSoto noted that Hurricane Maria has left approximately $90 billion in damages. \\n\\nCongress has allocated about $18…\n",
              "3    RT @NALCABPolicy: Meeting with @RepDarrenSoto . Thanks for taking the time to meet with @LatinoLeader ED Marucci Guzman. #NALCABPolicy2018.…  \n",
              "4    RT @Vegalteno: Hurricane season starts on June 1st; Puerto Rico’s readiness...well 🤦🏼‍♂️😡😩@Pwr4PuertoRico @RepDarrenSoto @EspaillatNY         \n",
              "5    RT @EmgageActionFL: Thank you to all who came out to our Orlando gala! It was a successful night that would not have been possible without…   \n",
              "6    Hurricane Maria left approx $90 billion in damages, yet only $1 billion was allocated for rebuilding grid. No surpr… https://t.co/2kU8BcKwUh  \n",
              "7    RT @Tharryry: I am delighted that @RepDarrenSoto will be voting for the CRA to overrule the FCC and save our #NetNeutrality rules. Find out…  \n",
              "8    RT @HispanicCaucus: Trump's anti-immigrant policies are hurting small businesses across the country that can’t find Americans willing to do…  \n",
              "9    RT @RepStephMurphy: Great joining @WeAreUnidosUS and @RepDarrenSoto for a roundtable in #Orlando on federal issues affecting central Florid…  \n",
              "Name: Tweet, dtype: object"
            ]
          },
          "metadata": {
            "tags": []
          },
          "execution_count": 12
        }
      ]
    },
    {
      "cell_type": "code",
      "metadata": {
        "id": "JN9cUci4IpAg",
        "colab": {
          "base_uri": "https://localhost:8080/"
        },
        "outputId": "d2951d2e-b4c2-42fc-e6c7-10d56ad52d10"
      },
      "source": [
        "Tweet_list[0:10]"
      ],
      "execution_count": 13,
      "outputs": [
        {
          "output_type": "execute_result",
          "data": {
            "text/plain": [
              "['today senate dems vote savetheinternet proud support similar netneutrality legislation house',\n",
              " 'winterhavensun winter resident alta vista teacher one several recognized repdarrensoto national teacher apprecia',\n",
              " 'nbclatino repdarrensoto noted hurricane maria left approximately billion damage congress allocated',\n",
              " 'nalcabpolicy meeting repdarrensoto thanks taking time meet latinoleader ed marucci guzman nalcabpolicy',\n",
              " 'vegalteno hurricane season start june st puerto rico readiness well pwr puertorico repdarrensoto espaillatny',\n",
              " 'emgageactionfl thank came orlando gala successful night would possible without',\n",
              " 'hurricane maria left approx billion damage yet billion allocated rebuilding grid surpr',\n",
              " 'tharryry delighted repdarrensoto voting cra overrule fcc save netneutrality rule find',\n",
              " 'hispaniccaucus trump anti immigrant policy hurting small business across country find american willing',\n",
              " 'repstephmurphy great joining weareunidosus repdarrensoto roundtable orlando federal issue affecting central florid']"
            ]
          },
          "metadata": {
            "tags": []
          },
          "execution_count": 13
        }
      ]
    },
    {
      "cell_type": "code",
      "metadata": {
        "id": "qnnVisUBuhBl",
        "colab": {
          "base_uri": "https://localhost:8080/"
        },
        "outputId": "fa57d93a-4109-4a6c-f03e-06b7b9cef76d"
      },
      "source": [
        "len(Tweet_list)"
      ],
      "execution_count": 14,
      "outputs": [
        {
          "output_type": "execute_result",
          "data": {
            "text/plain": [
              "86460"
            ]
          },
          "metadata": {
            "tags": []
          },
          "execution_count": 14
        }
      ]
    },
    {
      "cell_type": "code",
      "metadata": {
        "id": "FVYhLth8IBBS"
      },
      "source": [
        "df[\"Tweets\"] = Tweet_list"
      ],
      "execution_count": 15,
      "outputs": []
    },
    {
      "cell_type": "code",
      "metadata": {
        "id": "amEXtS_FJ02m",
        "colab": {
          "base_uri": "https://localhost:8080/",
          "height": 182
        },
        "outputId": "533e3e16-cb9e-4742-8383-661d694580c6"
      },
      "source": [
        "df.head(3)"
      ],
      "execution_count": 16,
      "outputs": [
        {
          "output_type": "execute_result",
          "data": {
            "text/html": [
              "<div>\n",
              "<style scoped>\n",
              "    .dataframe tbody tr th:only-of-type {\n",
              "        vertical-align: middle;\n",
              "    }\n",
              "\n",
              "    .dataframe tbody tr th {\n",
              "        vertical-align: top;\n",
              "    }\n",
              "\n",
              "    .dataframe thead th {\n",
              "        text-align: right;\n",
              "    }\n",
              "</style>\n",
              "<table border=\"1\" class=\"dataframe\">\n",
              "  <thead>\n",
              "    <tr style=\"text-align: right;\">\n",
              "      <th></th>\n",
              "      <th>Party</th>\n",
              "      <th>Handle</th>\n",
              "      <th>Tweet</th>\n",
              "      <th>Tweets</th>\n",
              "    </tr>\n",
              "  </thead>\n",
              "  <tbody>\n",
              "    <tr>\n",
              "      <th>0</th>\n",
              "      <td>Democrat</td>\n",
              "      <td>RepDarrenSoto</td>\n",
              "      <td>Today, Senate Dems vote to #SaveTheInternet. Proud to support similar #NetNeutrality legislation here in the House… https://t.co/n3tggDLU1L</td>\n",
              "      <td>today senate dems vote savetheinternet proud support similar netneutrality legislation house</td>\n",
              "    </tr>\n",
              "    <tr>\n",
              "      <th>1</th>\n",
              "      <td>Democrat</td>\n",
              "      <td>RepDarrenSoto</td>\n",
              "      <td>RT @WinterHavenSun: Winter Haven resident / Alta Vista teacher is one of several recognized by @RepDarrenSoto for National Teacher Apprecia…</td>\n",
              "      <td>winterhavensun winter resident alta vista teacher one several recognized repdarrensoto national teacher apprecia</td>\n",
              "    </tr>\n",
              "    <tr>\n",
              "      <th>2</th>\n",
              "      <td>Democrat</td>\n",
              "      <td>RepDarrenSoto</td>\n",
              "      <td>RT @NBCLatino: .@RepDarrenSoto noted that Hurricane Maria has left approximately $90 billion in damages. \\n\\nCongress has allocated about $18…</td>\n",
              "      <td>nbclatino repdarrensoto noted hurricane maria left approximately billion damage congress allocated</td>\n",
              "    </tr>\n",
              "  </tbody>\n",
              "</table>\n",
              "</div>"
            ],
            "text/plain": [
              "      Party  ...                                                                                                            Tweets\n",
              "0  Democrat  ...  today senate dems vote savetheinternet proud support similar netneutrality legislation house                    \n",
              "1  Democrat  ...  winterhavensun winter resident alta vista teacher one several recognized repdarrensoto national teacher apprecia\n",
              "2  Democrat  ...  nbclatino repdarrensoto noted hurricane maria left approximately billion damage congress allocated              \n",
              "\n",
              "[3 rows x 4 columns]"
            ]
          },
          "metadata": {
            "tags": []
          },
          "execution_count": 16
        }
      ]
    },
    {
      "cell_type": "code",
      "metadata": {
        "id": "c3tT6OpnJ2vo"
      },
      "source": [
        "df=df.drop(['Tweet'],axis=1)"
      ],
      "execution_count": 17,
      "outputs": []
    },
    {
      "cell_type": "code",
      "metadata": {
        "id": "PKtG9rpxKuTJ",
        "colab": {
          "base_uri": "https://localhost:8080/",
          "height": 133
        },
        "outputId": "7f7edee3-c97b-4797-e8c7-257909768c71"
      },
      "source": [
        "df.head(3)"
      ],
      "execution_count": 18,
      "outputs": [
        {
          "output_type": "execute_result",
          "data": {
            "text/html": [
              "<div>\n",
              "<style scoped>\n",
              "    .dataframe tbody tr th:only-of-type {\n",
              "        vertical-align: middle;\n",
              "    }\n",
              "\n",
              "    .dataframe tbody tr th {\n",
              "        vertical-align: top;\n",
              "    }\n",
              "\n",
              "    .dataframe thead th {\n",
              "        text-align: right;\n",
              "    }\n",
              "</style>\n",
              "<table border=\"1\" class=\"dataframe\">\n",
              "  <thead>\n",
              "    <tr style=\"text-align: right;\">\n",
              "      <th></th>\n",
              "      <th>Party</th>\n",
              "      <th>Handle</th>\n",
              "      <th>Tweets</th>\n",
              "    </tr>\n",
              "  </thead>\n",
              "  <tbody>\n",
              "    <tr>\n",
              "      <th>0</th>\n",
              "      <td>Democrat</td>\n",
              "      <td>RepDarrenSoto</td>\n",
              "      <td>today senate dems vote savetheinternet proud support similar netneutrality legislation house</td>\n",
              "    </tr>\n",
              "    <tr>\n",
              "      <th>1</th>\n",
              "      <td>Democrat</td>\n",
              "      <td>RepDarrenSoto</td>\n",
              "      <td>winterhavensun winter resident alta vista teacher one several recognized repdarrensoto national teacher apprecia</td>\n",
              "    </tr>\n",
              "    <tr>\n",
              "      <th>2</th>\n",
              "      <td>Democrat</td>\n",
              "      <td>RepDarrenSoto</td>\n",
              "      <td>nbclatino repdarrensoto noted hurricane maria left approximately billion damage congress allocated</td>\n",
              "    </tr>\n",
              "  </tbody>\n",
              "</table>\n",
              "</div>"
            ],
            "text/plain": [
              "      Party  ...                                                                                                            Tweets\n",
              "0  Democrat  ...  today senate dems vote savetheinternet proud support similar netneutrality legislation house                    \n",
              "1  Democrat  ...  winterhavensun winter resident alta vista teacher one several recognized repdarrensoto national teacher apprecia\n",
              "2  Democrat  ...  nbclatino repdarrensoto noted hurricane maria left approximately billion damage congress allocated              \n",
              "\n",
              "[3 rows x 3 columns]"
            ]
          },
          "metadata": {
            "tags": []
          },
          "execution_count": 18
        }
      ]
    },
    {
      "cell_type": "code",
      "metadata": {
        "id": "YxsPhBLGKMOn"
      },
      "source": [
        "democrat=df[df.Party==\"Democrat\"]\n",
        "republican=df[df.Party==\"Republican\"]"
      ],
      "execution_count": 19,
      "outputs": []
    },
    {
      "cell_type": "code",
      "metadata": {
        "id": "v5cbnfeZKh9m",
        "colab": {
          "base_uri": "https://localhost:8080/",
          "height": 105
        },
        "outputId": "f478d9ba-cadd-428b-e725-7b2cf8ee146c"
      },
      "source": [
        "democrat.head(2)"
      ],
      "execution_count": 20,
      "outputs": [
        {
          "output_type": "execute_result",
          "data": {
            "text/html": [
              "<div>\n",
              "<style scoped>\n",
              "    .dataframe tbody tr th:only-of-type {\n",
              "        vertical-align: middle;\n",
              "    }\n",
              "\n",
              "    .dataframe tbody tr th {\n",
              "        vertical-align: top;\n",
              "    }\n",
              "\n",
              "    .dataframe thead th {\n",
              "        text-align: right;\n",
              "    }\n",
              "</style>\n",
              "<table border=\"1\" class=\"dataframe\">\n",
              "  <thead>\n",
              "    <tr style=\"text-align: right;\">\n",
              "      <th></th>\n",
              "      <th>Party</th>\n",
              "      <th>Handle</th>\n",
              "      <th>Tweets</th>\n",
              "    </tr>\n",
              "  </thead>\n",
              "  <tbody>\n",
              "    <tr>\n",
              "      <th>0</th>\n",
              "      <td>Democrat</td>\n",
              "      <td>RepDarrenSoto</td>\n",
              "      <td>today senate dems vote savetheinternet proud support similar netneutrality legislation house</td>\n",
              "    </tr>\n",
              "    <tr>\n",
              "      <th>1</th>\n",
              "      <td>Democrat</td>\n",
              "      <td>RepDarrenSoto</td>\n",
              "      <td>winterhavensun winter resident alta vista teacher one several recognized repdarrensoto national teacher apprecia</td>\n",
              "    </tr>\n",
              "  </tbody>\n",
              "</table>\n",
              "</div>"
            ],
            "text/plain": [
              "      Party  ...                                                                                                            Tweets\n",
              "0  Democrat  ...  today senate dems vote savetheinternet proud support similar netneutrality legislation house                    \n",
              "1  Democrat  ...  winterhavensun winter resident alta vista teacher one several recognized repdarrensoto national teacher apprecia\n",
              "\n",
              "[2 rows x 3 columns]"
            ]
          },
          "metadata": {
            "tags": []
          },
          "execution_count": 20
        }
      ]
    },
    {
      "cell_type": "code",
      "metadata": {
        "id": "TRyQlnEZLcxs",
        "colab": {
          "base_uri": "https://localhost:8080/",
          "height": 105
        },
        "outputId": "67cf0e1f-a5ee-4d69-c5b4-10e0ecff8647"
      },
      "source": [
        "republican.head(2)"
      ],
      "execution_count": 21,
      "outputs": [
        {
          "output_type": "execute_result",
          "data": {
            "text/html": [
              "<div>\n",
              "<style scoped>\n",
              "    .dataframe tbody tr th:only-of-type {\n",
              "        vertical-align: middle;\n",
              "    }\n",
              "\n",
              "    .dataframe tbody tr th {\n",
              "        vertical-align: top;\n",
              "    }\n",
              "\n",
              "    .dataframe thead th {\n",
              "        text-align: right;\n",
              "    }\n",
              "</style>\n",
              "<table border=\"1\" class=\"dataframe\">\n",
              "  <thead>\n",
              "    <tr style=\"text-align: right;\">\n",
              "      <th></th>\n",
              "      <th>Party</th>\n",
              "      <th>Handle</th>\n",
              "      <th>Tweets</th>\n",
              "    </tr>\n",
              "  </thead>\n",
              "  <tbody>\n",
              "    <tr>\n",
              "      <th>42068</th>\n",
              "      <td>Republican</td>\n",
              "      <td>RepRalphNorman</td>\n",
              "      <td>wastefulwednesday today introduced bill would eliminate global climate change initiative gc</td>\n",
              "    </tr>\n",
              "    <tr>\n",
              "      <th>42069</th>\n",
              "      <td>Republican</td>\n",
              "      <td>RepRalphNorman</td>\n",
              "      <td>today honored heroic men amp woman law enforcement lost life line duty nati</td>\n",
              "    </tr>\n",
              "  </tbody>\n",
              "</table>\n",
              "</div>"
            ],
            "text/plain": [
              "            Party  ...                                                                                       Tweets\n",
              "42068  Republican  ...  wastefulwednesday today introduced bill would eliminate global climate change initiative gc\n",
              "42069  Republican  ...  today honored heroic men amp woman law enforcement lost life line duty nati                \n",
              "\n",
              "[2 rows x 3 columns]"
            ]
          },
          "metadata": {
            "tags": []
          },
          "execution_count": 21
        }
      ]
    },
    {
      "cell_type": "code",
      "metadata": {
        "id": "xS2BGSvlKpbN",
        "colab": {
          "base_uri": "https://localhost:8080/"
        },
        "outputId": "19ea3573-87bb-4565-d7ba-dcca422ab098"
      },
      "source": [
        "print(len(democrat))\n",
        "print(len(republican))"
      ],
      "execution_count": 22,
      "outputs": [
        {
          "output_type": "stream",
          "text": [
            "42068\n",
            "44392\n"
          ],
          "name": "stdout"
        }
      ]
    },
    {
      "cell_type": "code",
      "metadata": {
        "id": "fkOZBD6qMCal"
      },
      "source": [
        "d_tweets = republican.Tweets.values\n",
        "r_tweets = democrat.Tweets.values"
      ],
      "execution_count": 23,
      "outputs": []
    },
    {
      "cell_type": "code",
      "metadata": {
        "id": "EfTro4ZRMWLd"
      },
      "source": [
        "d_tweets=d_tweets.tolist()\n",
        "r_tweets=r_tweets.tolist()"
      ],
      "execution_count": 24,
      "outputs": []
    },
    {
      "cell_type": "code",
      "metadata": {
        "id": "bAJXtHoNOGD4",
        "colab": {
          "base_uri": "https://localhost:8080/"
        },
        "outputId": "be0a9813-97f8-4d22-d4b7-f55c5112ea4d"
      },
      "source": [
        "d_tweets[0:3]"
      ],
      "execution_count": 25,
      "outputs": [
        {
          "output_type": "execute_result",
          "data": {
            "text/plain": [
              "['wastefulwednesday today introduced bill would eliminate global climate change initiative gc',\n",
              " 'today honored heroic men amp woman law enforcement lost life line duty nati',\n",
              " 'congressmanraja last week repralphnorman hosted briefing economic benefit solar energy production']"
            ]
          },
          "metadata": {
            "tags": []
          },
          "execution_count": 25
        }
      ]
    },
    {
      "cell_type": "code",
      "metadata": {
        "id": "97RXUhQiOz-S",
        "colab": {
          "base_uri": "https://localhost:8080/"
        },
        "outputId": "de05259c-5e3c-47f1-ecd0-4fe16b14fe67"
      },
      "source": [
        "r_tweets[0:3]"
      ],
      "execution_count": 26,
      "outputs": [
        {
          "output_type": "execute_result",
          "data": {
            "text/plain": [
              "['today senate dems vote savetheinternet proud support similar netneutrality legislation house',\n",
              " 'winterhavensun winter resident alta vista teacher one several recognized repdarrensoto national teacher apprecia',\n",
              " 'nbclatino repdarrensoto noted hurricane maria left approximately billion damage congress allocated']"
            ]
          },
          "metadata": {
            "tags": []
          },
          "execution_count": 26
        }
      ]
    },
    {
      "cell_type": "code",
      "metadata": {
        "id": "BCRJMQRlK4aB"
      },
      "source": [
        "democrat_words=str(d_tweets).split()\n",
        "republican_words=str(r_tweets).split()"
      ],
      "execution_count": 27,
      "outputs": []
    },
    {
      "cell_type": "code",
      "metadata": {
        "id": "fl3aksNFNhAq",
        "colab": {
          "base_uri": "https://localhost:8080/"
        },
        "outputId": "87e98339-93cc-4e9e-84fe-0ad06b8ac1db"
      },
      "source": [
        "print(len(democrat_words))\n",
        "print(len(republican_words))"
      ],
      "execution_count": 28,
      "outputs": [
        {
          "output_type": "stream",
          "text": [
            "470337\n",
            "453639\n"
          ],
          "name": "stdout"
        }
      ]
    },
    {
      "cell_type": "code",
      "metadata": {
        "id": "PRzAAbsJV0f1",
        "colab": {
          "base_uri": "https://localhost:8080/"
        },
        "outputId": "91d55a52-0c54-4b83-883c-d319a97f6450"
      },
      "source": [
        "democrat_words[0:3]"
      ],
      "execution_count": 29,
      "outputs": [
        {
          "output_type": "execute_result",
          "data": {
            "text/plain": [
              "[\"['wastefulwednesday\", 'today', 'introduced']"
            ]
          },
          "metadata": {
            "tags": []
          },
          "execution_count": 29
        }
      ]
    },
    {
      "cell_type": "code",
      "metadata": {
        "id": "aRGgKsvzWEIn",
        "colab": {
          "base_uri": "https://localhost:8080/",
          "height": 35
        },
        "outputId": "530320b4-d8c0-461a-cfab-746397cf5d0c"
      },
      "source": [
        "democrat_words[-1]"
      ],
      "execution_count": 30,
      "outputs": [
        {
          "output_type": "execute_result",
          "data": {
            "application/vnd.google.colaboratory.intrinsic+json": {
              "type": "string"
            },
            "text/plain": [
              "\"together']\""
            ]
          },
          "metadata": {
            "tags": []
          },
          "execution_count": 30
        }
      ]
    },
    {
      "cell_type": "code",
      "metadata": {
        "id": "7TFzcWtvV4sI",
        "colab": {
          "base_uri": "https://localhost:8080/"
        },
        "outputId": "7e037865-d099-4686-ba33-1f5b1006e446"
      },
      "source": [
        "republican_words[0:3]"
      ],
      "execution_count": 31,
      "outputs": [
        {
          "output_type": "execute_result",
          "data": {
            "text/plain": [
              "[\"['today\", 'senate', 'dems']"
            ]
          },
          "metadata": {
            "tags": []
          },
          "execution_count": 31
        }
      ]
    },
    {
      "cell_type": "code",
      "metadata": {
        "id": "VVEF2TLDSTVk"
      },
      "source": [
        "democrat_words[0]=democrat_words[0][2:]"
      ],
      "execution_count": 32,
      "outputs": []
    },
    {
      "cell_type": "code",
      "metadata": {
        "id": "LGBq6eumVRQx",
        "colab": {
          "base_uri": "https://localhost:8080/",
          "height": 35
        },
        "outputId": "baaffbaa-e624-40ac-8cc5-2203f294e48d"
      },
      "source": [
        "democrat_words[0]"
      ],
      "execution_count": 33,
      "outputs": [
        {
          "output_type": "execute_result",
          "data": {
            "application/vnd.google.colaboratory.intrinsic+json": {
              "type": "string"
            },
            "text/plain": [
              "'wastefulwednesday'"
            ]
          },
          "metadata": {
            "tags": []
          },
          "execution_count": 33
        }
      ]
    },
    {
      "cell_type": "code",
      "metadata": {
        "id": "xMUL00UhSWc_"
      },
      "source": [
        "democrat_words[-1]=democrat_words[-1][:-2]"
      ],
      "execution_count": 34,
      "outputs": []
    },
    {
      "cell_type": "code",
      "metadata": {
        "id": "ukj9qFDmUXrP"
      },
      "source": [
        "republican_words[0]=republican_words[0][2:]"
      ],
      "execution_count": 35,
      "outputs": []
    },
    {
      "cell_type": "code",
      "metadata": {
        "id": "MeD0JMmPUa0_"
      },
      "source": [
        "republican_words[-1]=republican_words[-1][:-2]"
      ],
      "execution_count": 36,
      "outputs": []
    },
    {
      "cell_type": "code",
      "metadata": {
        "id": "r_kI1lr0fDY0"
      },
      "source": [
        "from nltk.probability import FreqDist\n",
        "fdist_democrat_words = FreqDist(democrat_words)\n",
        "fdist_republican_words=FreqDist(republican_words)"
      ],
      "execution_count": 37,
      "outputs": []
    },
    {
      "cell_type": "code",
      "metadata": {
        "colab": {
          "base_uri": "https://localhost:8080/"
        },
        "id": "Ak4xVwuiq_P-",
        "outputId": "46f62863-f1f8-4c03-fbff-fc3e8609911b"
      },
      "source": [
        "fdist_democrat_words.most_common(20)"
      ],
      "execution_count": 38,
      "outputs": [
        {
          "output_type": "execute_result",
          "data": {
            "text/plain": [
              "[('amp', 4641),\n",
              " ('today', 3186),\n",
              " ('tax', 2629),\n",
              " ('u', 2178),\n",
              " ('bill', 2080),\n",
              " ('house', 2012),\n",
              " ('american', 1987),\n",
              " ('year', 1675),\n",
              " ('day', 1638),\n",
              " ('act', 1569),\n",
              " ('great', 1451),\n",
              " (\"'today\", 1395),\n",
              " (\"'great\", 1381),\n",
              " ('hearing', 1346),\n",
              " ('family', 1302),\n",
              " ('work', 1296),\n",
              " ('new', 1294),\n",
              " ('job', 1291),\n",
              " ('week', 1280),\n",
              " ('thank', 1274)]"
            ]
          },
          "metadata": {
            "tags": []
          },
          "execution_count": 38
        }
      ]
    },
    {
      "cell_type": "code",
      "metadata": {
        "colab": {
          "base_uri": "https://localhost:8080/"
        },
        "id": "uI0gvUd4ryvL",
        "outputId": "8aca6ed3-0506-46cd-ddd9-74be4c6ab44a"
      },
      "source": [
        "fdist_republican_words.most_common(20)"
      ],
      "execution_count": 39,
      "outputs": [
        {
          "output_type": "execute_result",
          "data": {
            "text/plain": [
              "[('amp', 4659),\n",
              " ('today', 2449),\n",
              " ('trump', 2040),\n",
              " ('u', 1859),\n",
              " ('american', 1785),\n",
              " ('year', 1493),\n",
              " ('student', 1482),\n",
              " ('family', 1480),\n",
              " ('woman', 1363),\n",
              " ('day', 1338),\n",
              " ('house', 1338),\n",
              " ('people', 1296),\n",
              " ('congress', 1290),\n",
              " ('bill', 1276),\n",
              " ('work', 1268),\n",
              " ('time', 1266),\n",
              " ('new', 1238),\n",
              " (\"'today\", 1196),\n",
              " ('president', 1167),\n",
              " ('tax', 1141)]"
            ]
          },
          "metadata": {
            "tags": []
          },
          "execution_count": 39
        }
      ]
    },
    {
      "cell_type": "code",
      "metadata": {
        "colab": {
          "base_uri": "https://localhost:8080/",
          "height": 775
        },
        "id": "aXUjE3ekwM3P",
        "outputId": "93c7486b-aae9-470c-ce55-737bcfa482d0"
      },
      "source": [
        "plt.subplots(figsize=(10,5))\n",
        "fdist_democrat_words.plot(50,title=\"Democrat Tweets\")\n",
        "plt.subplots(figsize=(10,5))\n",
        "fdist_republican_words.plot(50,title=\"Republican Tweets\")"
      ],
      "execution_count": 40,
      "outputs": [
        {
          "output_type": "display_data",
          "data": {
            "image/png": "[encoded data removed]",
            "text/plain": [
              "<Figure size 720x360 with 1 Axes>"
            ]
          },
          "metadata": {
            "tags": [],
            "needs_background": "light"
          }
        },
        {
          "output_type": "display_data",
          "data": {
            "image/png": "[encoded data removed]",
            "text/plain": [
              "<Figure size 720x360 with 1 Axes>"
            ]
          },
          "metadata": {
            "tags": [],
            "needs_background": "light"
          }
        }
      ]
    },
    {
      "cell_type": "code",
      "metadata": {
        "id": "8DEjl4qGr26r"
      },
      "source": [
        "r_50 = fdist_republican_words.most_common(50)\n",
        "d_50 = fdist_democrat_words.most_common(50)"
      ],
      "execution_count": 41,
      "outputs": []
    },
    {
      "cell_type": "code",
      "metadata": {
        "id": "_mlzvCgesomz"
      },
      "source": [
        "r_top=[]\n",
        "for i in r_50:\n",
        "  r_top.append(i[0])"
      ],
      "execution_count": 42,
      "outputs": []
    },
    {
      "cell_type": "code",
      "metadata": {
        "id": "lRaXZEVXtc-M"
      },
      "source": [
        "d_top=[]\n",
        "for i in d_50:\n",
        "  d_top.append(i[0])"
      ],
      "execution_count": 43,
      "outputs": []
    },
    {
      "cell_type": "code",
      "metadata": {
        "id": "mKqUHHkttenc"
      },
      "source": [
        "r_only= set(r_top)-set(d_top)"
      ],
      "execution_count": 44,
      "outputs": []
    },
    {
      "cell_type": "code",
      "metadata": {
        "colab": {
          "base_uri": "https://localhost:8080/"
        },
        "id": "QaLvyhbluALL",
        "outputId": "51074df9-3036-4a66-94b8-fd70173415ff"
      },
      "source": [
        "r_only"
      ],
      "execution_count": 45,
      "outputs": [
        {
          "output_type": "execute_result",
          "data": {
            "text/plain": [
              "{'country',\n",
              " 'gun',\n",
              " 'health',\n",
              " 'join',\n",
              " 'life',\n",
              " 'make',\n",
              " 'million',\n",
              " 'must',\n",
              " 'need',\n",
              " 'republican',\n",
              " 'right',\n",
              " 'trump',\n",
              " 'woman',\n",
              " 'would'}"
            ]
          },
          "metadata": {
            "tags": []
          },
          "execution_count": 45
        }
      ]
    },
    {
      "cell_type": "code",
      "metadata": {
        "id": "_QhjNG52uCOK"
      },
      "source": [
        "d_only= set(d_top)-set(r_top)"
      ],
      "execution_count": 46,
      "outputs": []
    },
    {
      "cell_type": "code",
      "metadata": {
        "colab": {
          "base_uri": "https://localhost:8080/"
        },
        "id": "JGGBGe6hubDJ",
        "outputId": "ff1f6383-58d8-46fb-bb0c-186d2b393eb3"
      },
      "source": [
        "d_only"
      ],
      "execution_count": 47,
      "outputs": [
        {
          "output_type": "execute_result",
          "data": {
            "text/plain": [
              "{'business',\n",
              " 'discus',\n",
              " 'hearing',\n",
              " 'job',\n",
              " 'last',\n",
              " 'live',\n",
              " 'meeting',\n",
              " 'morning',\n",
              " 'national',\n",
              " 'news',\n",
              " 'passed',\n",
              " 'reform',\n",
              " 'service',\n",
              " 'thanks'}"
            ]
          },
          "metadata": {
            "tags": []
          },
          "execution_count": 47
        }
      ]
    },
    {
      "cell_type": "code",
      "metadata": {
        "colab": {
          "base_uri": "https://localhost:8080/"
        },
        "id": "I5nu7UiXx24j",
        "outputId": "656258a9-07e0-4e4d-d429-1948015a0baf"
      },
      "source": [
        "print(set(r_top)&set(d_top))"
      ],
      "execution_count": 48,
      "outputs": [
        {
          "output_type": "stream",
          "text": [
            "{'w', 'time', 'day', \"'today\", 'first', 'see', 'th', 'u', 'week', 'congress', 'http', 'year', 'amp', 'work', 'tax', 'student', 'support', 'co', 'state', 'american', 'act', 'community', 'bill', 'one', 'thank', \"'great\", 'school', 'today', 'help', 'member', 'house', 'family', 'great', 'people', 'new', 'president'}\n"
          ],
          "name": "stdout"
        }
      ]
    },
    {
      "cell_type": "code",
      "metadata": {
        "id": "wsUimv0-y7yL"
      },
      "source": [
        "remove =['co','u','w','th','amp','http']"
      ],
      "execution_count": 49,
      "outputs": []
    },
    {
      "cell_type": "code",
      "metadata": {
        "id": "ZW0fulsA11En"
      },
      "source": [
        "top_common = (set(r_top)&set(d_top))-set(remove)"
      ],
      "execution_count": 50,
      "outputs": []
    },
    {
      "cell_type": "code",
      "metadata": {
        "colab": {
          "base_uri": "https://localhost:8080/"
        },
        "id": "6PBYdnYS2AXx",
        "outputId": "2660eb6b-192b-4f0d-a673-9e7313c5c60c"
      },
      "source": [
        "top_common"
      ],
      "execution_count": 51,
      "outputs": [
        {
          "output_type": "execute_result",
          "data": {
            "text/plain": [
              "{\"'great\",\n",
              " \"'today\",\n",
              " 'act',\n",
              " 'american',\n",
              " 'bill',\n",
              " 'community',\n",
              " 'congress',\n",
              " 'day',\n",
              " 'family',\n",
              " 'first',\n",
              " 'great',\n",
              " 'help',\n",
              " 'house',\n",
              " 'member',\n",
              " 'new',\n",
              " 'one',\n",
              " 'people',\n",
              " 'president',\n",
              " 'school',\n",
              " 'see',\n",
              " 'state',\n",
              " 'student',\n",
              " 'support',\n",
              " 'tax',\n",
              " 'thank',\n",
              " 'time',\n",
              " 'today',\n",
              " 'week',\n",
              " 'work',\n",
              " 'year'}"
            ]
          },
          "metadata": {
            "tags": []
          },
          "execution_count": 51
        }
      ]
    },
    {
      "cell_type": "markdown",
      "metadata": {
        "id": "gOOd8Q2CuEjN"
      },
      "source": [
        "#Machine Learning Models"
      ]
    },
    {
      "cell_type": "code",
      "metadata": {
        "colab": {
          "base_uri": "https://localhost:8080/",
          "height": 191
        },
        "id": "iYK8yWxuq0k5",
        "outputId": "74b3e926-8313-4662-c6d4-c520eddf32a5"
      },
      "source": [
        "df['Class'] = df['Party'].map({'Democrat':0, 'Republican':1})\n",
        "df.tail()"
      ],
      "execution_count": 52,
      "outputs": [
        {
          "output_type": "execute_result",
          "data": {
            "text/html": [
              "<div>\n",
              "<style scoped>\n",
              "    .dataframe tbody tr th:only-of-type {\n",
              "        vertical-align: middle;\n",
              "    }\n",
              "\n",
              "    .dataframe tbody tr th {\n",
              "        vertical-align: top;\n",
              "    }\n",
              "\n",
              "    .dataframe thead th {\n",
              "        text-align: right;\n",
              "    }\n",
              "</style>\n",
              "<table border=\"1\" class=\"dataframe\">\n",
              "  <thead>\n",
              "    <tr style=\"text-align: right;\">\n",
              "      <th></th>\n",
              "      <th>Party</th>\n",
              "      <th>Handle</th>\n",
              "      <th>Tweets</th>\n",
              "      <th>Class</th>\n",
              "    </tr>\n",
              "  </thead>\n",
              "  <tbody>\n",
              "    <tr>\n",
              "      <th>86455</th>\n",
              "      <td>Republican</td>\n",
              "      <td>RepTomPrice</td>\n",
              "      <td>check op ed need end executive overreach act white house crippling economy via dcexaminer</td>\n",
              "      <td>1</td>\n",
              "    </tr>\n",
              "    <tr>\n",
              "      <th>86456</th>\n",
              "      <td>Republican</td>\n",
              "      <td>RepTomPrice</td>\n",
              "      <td>yesterday betty amp great time learning forestry industry employ approx people ga</td>\n",
              "      <td>1</td>\n",
              "    </tr>\n",
              "    <tr>\n",
              "      <th>86457</th>\n",
              "      <td>Republican</td>\n",
              "      <td>RepTomPrice</td>\n",
              "      <td>forever grateful service sacrifice major barney</td>\n",
              "      <td>1</td>\n",
              "    </tr>\n",
              "    <tr>\n",
              "      <th>86458</th>\n",
              "      <td>Republican</td>\n",
              "      <td>RepTomPrice</td>\n",
              "      <td>happy first day school cobbschools cobbbacktoschool</td>\n",
              "      <td>1</td>\n",
              "    </tr>\n",
              "    <tr>\n",
              "      <th>86459</th>\n",
              "      <td>Republican</td>\n",
              "      <td>RepTomPrice</td>\n",
              "      <td>zika fear realized florida house gop acted prevent crisis dems inaction inexcusable time put politics aside amp work together</td>\n",
              "      <td>1</td>\n",
              "    </tr>\n",
              "  </tbody>\n",
              "</table>\n",
              "</div>"
            ],
            "text/plain": [
              "            Party  ... Class\n",
              "86455  Republican  ...  1   \n",
              "86456  Republican  ...  1   \n",
              "86457  Republican  ...  1   \n",
              "86458  Republican  ...  1   \n",
              "86459  Republican  ...  1   \n",
              "\n",
              "[5 rows x 4 columns]"
            ]
          },
          "metadata": {
            "tags": []
          },
          "execution_count": 52
        }
      ]
    },
    {
      "cell_type": "code",
      "metadata": {
        "colab": {
          "base_uri": "https://localhost:8080/",
          "height": 191
        },
        "id": "wsxyg_VBsM6C",
        "outputId": "7b786321-3cc6-45e2-b43e-cdab024b226e"
      },
      "source": [
        "df.head()"
      ],
      "execution_count": 53,
      "outputs": [
        {
          "output_type": "execute_result",
          "data": {
            "text/html": [
              "<div>\n",
              "<style scoped>\n",
              "    .dataframe tbody tr th:only-of-type {\n",
              "        vertical-align: middle;\n",
              "    }\n",
              "\n",
              "    .dataframe tbody tr th {\n",
              "        vertical-align: top;\n",
              "    }\n",
              "\n",
              "    .dataframe thead th {\n",
              "        text-align: right;\n",
              "    }\n",
              "</style>\n",
              "<table border=\"1\" class=\"dataframe\">\n",
              "  <thead>\n",
              "    <tr style=\"text-align: right;\">\n",
              "      <th></th>\n",
              "      <th>Party</th>\n",
              "      <th>Handle</th>\n",
              "      <th>Tweets</th>\n",
              "      <th>Class</th>\n",
              "    </tr>\n",
              "  </thead>\n",
              "  <tbody>\n",
              "    <tr>\n",
              "      <th>0</th>\n",
              "      <td>Democrat</td>\n",
              "      <td>RepDarrenSoto</td>\n",
              "      <td>today senate dems vote savetheinternet proud support similar netneutrality legislation house</td>\n",
              "      <td>0</td>\n",
              "    </tr>\n",
              "    <tr>\n",
              "      <th>1</th>\n",
              "      <td>Democrat</td>\n",
              "      <td>RepDarrenSoto</td>\n",
              "      <td>winterhavensun winter resident alta vista teacher one several recognized repdarrensoto national teacher apprecia</td>\n",
              "      <td>0</td>\n",
              "    </tr>\n",
              "    <tr>\n",
              "      <th>2</th>\n",
              "      <td>Democrat</td>\n",
              "      <td>RepDarrenSoto</td>\n",
              "      <td>nbclatino repdarrensoto noted hurricane maria left approximately billion damage congress allocated</td>\n",
              "      <td>0</td>\n",
              "    </tr>\n",
              "    <tr>\n",
              "      <th>3</th>\n",
              "      <td>Democrat</td>\n",
              "      <td>RepDarrenSoto</td>\n",
              "      <td>nalcabpolicy meeting repdarrensoto thanks taking time meet latinoleader ed marucci guzman nalcabpolicy</td>\n",
              "      <td>0</td>\n",
              "    </tr>\n",
              "    <tr>\n",
              "      <th>4</th>\n",
              "      <td>Democrat</td>\n",
              "      <td>RepDarrenSoto</td>\n",
              "      <td>vegalteno hurricane season start june st puerto rico readiness well pwr puertorico repdarrensoto espaillatny</td>\n",
              "      <td>0</td>\n",
              "    </tr>\n",
              "  </tbody>\n",
              "</table>\n",
              "</div>"
            ],
            "text/plain": [
              "      Party  ... Class\n",
              "0  Democrat  ...  0   \n",
              "1  Democrat  ...  0   \n",
              "2  Democrat  ...  0   \n",
              "3  Democrat  ...  0   \n",
              "4  Democrat  ...  0   \n",
              "\n",
              "[5 rows x 4 columns]"
            ]
          },
          "metadata": {
            "tags": []
          },
          "execution_count": 53
        }
      ]
    },
    {
      "cell_type": "code",
      "metadata": {
        "colab": {
          "base_uri": "https://localhost:8080/",
          "height": 191
        },
        "id": "1TV6VJNsWG8n",
        "outputId": "05064b79-e126-4b4e-d3e8-e51a53412dc9"
      },
      "source": [
        "df.head(5)"
      ],
      "execution_count": 54,
      "outputs": [
        {
          "output_type": "execute_result",
          "data": {
            "text/html": [
              "<div>\n",
              "<style scoped>\n",
              "    .dataframe tbody tr th:only-of-type {\n",
              "        vertical-align: middle;\n",
              "    }\n",
              "\n",
              "    .dataframe tbody tr th {\n",
              "        vertical-align: top;\n",
              "    }\n",
              "\n",
              "    .dataframe thead th {\n",
              "        text-align: right;\n",
              "    }\n",
              "</style>\n",
              "<table border=\"1\" class=\"dataframe\">\n",
              "  <thead>\n",
              "    <tr style=\"text-align: right;\">\n",
              "      <th></th>\n",
              "      <th>Party</th>\n",
              "      <th>Handle</th>\n",
              "      <th>Tweets</th>\n",
              "      <th>Class</th>\n",
              "    </tr>\n",
              "  </thead>\n",
              "  <tbody>\n",
              "    <tr>\n",
              "      <th>0</th>\n",
              "      <td>Democrat</td>\n",
              "      <td>RepDarrenSoto</td>\n",
              "      <td>today senate dems vote savetheinternet proud support similar netneutrality legislation house</td>\n",
              "      <td>0</td>\n",
              "    </tr>\n",
              "    <tr>\n",
              "      <th>1</th>\n",
              "      <td>Democrat</td>\n",
              "      <td>RepDarrenSoto</td>\n",
              "      <td>winterhavensun winter resident alta vista teacher one several recognized repdarrensoto national teacher apprecia</td>\n",
              "      <td>0</td>\n",
              "    </tr>\n",
              "    <tr>\n",
              "      <th>2</th>\n",
              "      <td>Democrat</td>\n",
              "      <td>RepDarrenSoto</td>\n",
              "      <td>nbclatino repdarrensoto noted hurricane maria left approximately billion damage congress allocated</td>\n",
              "      <td>0</td>\n",
              "    </tr>\n",
              "    <tr>\n",
              "      <th>3</th>\n",
              "      <td>Democrat</td>\n",
              "      <td>RepDarrenSoto</td>\n",
              "      <td>nalcabpolicy meeting repdarrensoto thanks taking time meet latinoleader ed marucci guzman nalcabpolicy</td>\n",
              "      <td>0</td>\n",
              "    </tr>\n",
              "    <tr>\n",
              "      <th>4</th>\n",
              "      <td>Democrat</td>\n",
              "      <td>RepDarrenSoto</td>\n",
              "      <td>vegalteno hurricane season start june st puerto rico readiness well pwr puertorico repdarrensoto espaillatny</td>\n",
              "      <td>0</td>\n",
              "    </tr>\n",
              "  </tbody>\n",
              "</table>\n",
              "</div>"
            ],
            "text/plain": [
              "      Party  ... Class\n",
              "0  Democrat  ...  0   \n",
              "1  Democrat  ...  0   \n",
              "2  Democrat  ...  0   \n",
              "3  Democrat  ...  0   \n",
              "4  Democrat  ...  0   \n",
              "\n",
              "[5 rows x 4 columns]"
            ]
          },
          "metadata": {
            "tags": []
          },
          "execution_count": 54
        }
      ]
    },
    {
      "cell_type": "code",
      "metadata": {
        "id": "GAZ6HQxDSCa3"
      },
      "source": [
        "from sklearn.model_selection import train_test_split"
      ],
      "execution_count": 55,
      "outputs": []
    },
    {
      "cell_type": "code",
      "metadata": {
        "id": "NJ84BQJTNuah"
      },
      "source": [
        "tweeters = df.iloc[:,:2].drop_duplicates()\n",
        "handles_train, handles_test = train_test_split(tweeters.Handle, stratify=tweeters.Party, test_size=0.2, random_state=0)\n",
        "\n",
        "# extract train & test sets from the all_tweets df\n",
        "train = df[df.Handle.isin(handles_train)].reset_index().drop('index', axis=1)\n",
        "test  = df[df.Handle.isin(handles_test)].reset_index().drop('index', axis=1)"
      ],
      "execution_count": 56,
      "outputs": []
    },
    {
      "cell_type": "code",
      "metadata": {
        "id": "HS5BabjvODJL"
      },
      "source": [
        "from sklearn.pipeline import Pipeline\n",
        "from sklearn.feature_extraction.text import TfidfVectorizer\n",
        "from nltk.tokenize.casual import TweetTokenizer\n",
        "from sklearn.naive_bayes import MultinomialNB\n",
        "from sklearn.metrics import accuracy_score\n",
        "tokenizer = TweetTokenizer(reduce_len=True)"
      ],
      "execution_count": 57,
      "outputs": []
    },
    {
      "cell_type": "code",
      "metadata": {
        "colab": {
          "base_uri": "https://localhost:8080/"
        },
        "id": "DAJUOKnMOQXL",
        "outputId": "71c4441a-eb78-482d-ea43-94ebaea7da2a"
      },
      "source": [
        "nb_pipeline = Pipeline([\n",
        "    ('vectorize', TfidfVectorizer(tokenizer=tokenizer.tokenize)),\n",
        "    ('classifier', MultinomialNB())\n",
        "])\n",
        "nb_pipeline.fit(train.Tweets, train.Class)\n",
        "preds = nb_pipeline.predict(test.Tweets)\n",
        "print('Accuracy: {}'.format(str(round(accuracy_score(test.Class, preds), 4))))"
      ],
      "execution_count": 58,
      "outputs": [
        {
          "output_type": "stream",
          "text": [
            "Accuracy: 0.7467\n"
          ],
          "name": "stdout"
        }
      ]
    },
    {
      "cell_type": "code",
      "metadata": {
        "colab": {
          "base_uri": "https://localhost:8080/"
        },
        "id": "3Vhd9xARO6PH",
        "outputId": "0b9e9e1d-9d36-43da-f889-db6de942b440"
      },
      "source": [
        "accuracy_df = test.drop(['Tweets'], axis=1)\n",
        "accuracy_df['preds'] = preds\n",
        "correct = 0\n",
        "total = 0\n",
        "print(\"Congresspersons whose tweets were mostly mis-classified:\")\n",
        "for name in accuracy_df.Handle.unique():\n",
        "    sub_df = accuracy_df[accuracy_df.Handle == name].reset_index()\n",
        "    sub_preds = sub_df.preds.value_counts()\n",
        "    if sub_preds.index[0] == sub_df.Class[0]:\n",
        "        correct += 1\n",
        "    total += 1\n",
        "    if sub_preds[sub_df.Class[0]]/len(sub_df) < 0.5:\n",
        "        print(\"{} ({}) classified with accuracy: {}\".format(name, sub_df.Class[0],str(round(sub_preds[sub_df.Class[0]]/len(sub_df), 4))))\n",
        "print()\n",
        "print(\"Accuracy of the model on a per-Congressperson-basis was: {}\".format(str(round(correct/total, 4))))"
      ],
      "execution_count": 59,
      "outputs": [
        {
          "output_type": "stream",
          "text": [
            "Congresspersons whose tweets were mostly mis-classified:\n",
            "RepVisclosky (0) classified with accuracy: 0.2589\n",
            "RepCurbelo (1) classified with accuracy: 0.49\n",
            "DanaRohrabacher (1) classified with accuracy: 0.407\n",
            "\n",
            "Accuracy of the model on a per-Congressperson-basis was: 0.9655\n"
          ],
          "name": "stdout"
        }
      ]
    },
    {
      "cell_type": "code",
      "metadata": {
        "colab": {
          "base_uri": "https://localhost:8080/"
        },
        "id": "YZoObUX6Q7GK",
        "outputId": "34edf972-ac51-4e5f-c7e6-a662a6a09600"
      },
      "source": [
        "\n",
        "from sklearn.tree import DecisionTreeClassifier\n",
        "nb_pipeline = Pipeline([\n",
        "    ('vectorize', TfidfVectorizer(tokenizer=tokenizer.tokenize)),\n",
        "    ('classifier', DecisionTreeClassifier(random_state = 42))\n",
        "])\n",
        "nb_pipeline.fit(train.Tweets, train.Class)\n",
        "preds = nb_pipeline.predict(test.Tweets)\n",
        "print('Accuracy: {}'.format(str(round(accuracy_score(test.Class, preds), 4))))"
      ],
      "execution_count": 60,
      "outputs": [
        {
          "output_type": "stream",
          "text": [
            "Accuracy: 0.6438\n"
          ],
          "name": "stdout"
        }
      ]
    },
    {
      "cell_type": "code",
      "metadata": {
        "colab": {
          "base_uri": "https://localhost:8080/"
        },
        "id": "1XsQn1-xWD24",
        "outputId": "787224e7-0141-4bec-a7df-b3eb3e9a1f07"
      },
      "source": [
        "accuracy_df = test.drop(['Tweets'], axis=1)\n",
        "accuracy_df['preds'] = preds\n",
        "correct = 0\n",
        "total = 0\n",
        "print(\"Congresspersons whose tweets were mostly mis-classified:\")\n",
        "for name in accuracy_df.Handle.unique():\n",
        "    sub_df = accuracy_df[accuracy_df.Handle == name].reset_index()\n",
        "    sub_preds = sub_df.preds.value_counts()\n",
        "    if sub_preds.index[0] == sub_df.Class[0]:\n",
        "        correct += 1\n",
        "    total += 1\n",
        "    if sub_preds[sub_df.Class[0]]/len(sub_df) < 0.5:\n",
        "        print(\"{} ({}) classified with accuracy: {}\".format(name, sub_df.Class[0],str(round(sub_preds[sub_df.Class[0]]/len(sub_df), 4))))\n",
        "print()\n",
        "print(\"Accuracy of the model on a per-Congressperson-basis was: {}\".format(str(round(correct/total, 4))))"
      ],
      "execution_count": 61,
      "outputs": [
        {
          "output_type": "stream",
          "text": [
            "Congresspersons whose tweets were mostly mis-classified:\n",
            "USRepRickNolan (0) classified with accuracy: 0.495\n",
            "JohnCarneyDE (0) classified with accuracy: 0.485\n",
            "RepVisclosky (0) classified with accuracy: 0.4213\n",
            "RepBrady (0) classified with accuracy: 0.49\n",
            "RepJimMcDermott (0) classified with accuracy: 0.395\n",
            "RepSchrader (0) classified with accuracy: 0.495\n",
            "RepCurbelo (1) classified with accuracy: 0.45\n",
            "DanaRohrabacher (1) classified with accuracy: 0.3769\n",
            "\n",
            "Accuracy of the model on a per-Congressperson-basis was: 0.908\n"
          ],
          "name": "stdout"
        }
      ]
    },
    {
      "cell_type": "code",
      "metadata": {
        "colab": {
          "base_uri": "https://localhost:8080/"
        },
        "id": "oQbS2l1yWW0s",
        "outputId": "915e962f-6424-41cc-da79-0fa7fa17c4bb"
      },
      "source": [
        "from sklearn.neighbors import KNeighborsClassifier\n",
        "nb_pipeline = Pipeline([\n",
        "    ('vectorize', TfidfVectorizer(tokenizer=tokenizer.tokenize)),\n",
        "    ('classifier', KNeighborsClassifier(n_neighbors = 40))\n",
        "])\n",
        "nb_pipeline.fit(train.Tweets, train.Class)\n",
        "preds = nb_pipeline.predict(test.Tweets)\n",
        "print('Accuracy: {}'.format(str(round(accuracy_score(test.Class, preds), 4))))"
      ],
      "execution_count": 62,
      "outputs": [
        {
          "output_type": "stream",
          "text": [
            "Accuracy: 0.5244\n"
          ],
          "name": "stdout"
        }
      ]
    },
    {
      "cell_type": "code",
      "metadata": {
        "colab": {
          "base_uri": "https://localhost:8080/"
        },
        "id": "SwkJDoXfWyXu",
        "outputId": "d2a76125-700b-44c6-a83b-d5964486679c"
      },
      "source": [
        "accuracy_df = test.drop(['Tweets'], axis=1)\n",
        "accuracy_df['preds'] = preds\n",
        "correct = 0\n",
        "total = 0\n",
        "print(\"Congresspersons whose tweets were mostly mis-classified:\")\n",
        "for name in accuracy_df.Handle.unique():\n",
        "    sub_df = accuracy_df[accuracy_df.Handle == name].reset_index()\n",
        "    sub_preds = sub_df.preds.value_counts()\n",
        "    if sub_preds.index[0] == sub_df.Class[0]:\n",
        "        correct += 1\n",
        "    total += 1\n",
        "    if sub_preds[sub_df.Class[0]]/len(sub_df) < 0.5:\n",
        "        print(\"{} ({}) classified with accuracy: {}\".format(name, sub_df.Class[0],str(round(sub_preds[sub_df.Class[0]]/len(sub_df), 4))))\n",
        "print()\n",
        "print(\"Accuracy of the model on a per-Congressperson-basis was: {}\".format(str(round(correct/total, 4))))"
      ],
      "execution_count": 63,
      "outputs": [
        {
          "output_type": "stream",
          "text": [
            "Congresspersons whose tweets were mostly mis-classified:\n",
            "RepMcEachin (0) classified with accuracy: 0.245\n",
            "DonaldNorcross (0) classified with accuracy: 0.275\n",
            "RepKathleenRice (0) classified with accuracy: 0.24\n",
            "RepRubenGallego (0) classified with accuracy: 0.195\n",
            "RepLawrence (0) classified with accuracy: 0.28\n",
            "USRepKCastor (0) classified with accuracy: 0.225\n",
            "AnthonyBrownMD4 (0) classified with accuracy: 0.17\n",
            "RepScottPeters (0) classified with accuracy: 0.21\n",
            "RepHuffman (0) classified with accuracy: 0.235\n",
            "USRepRickNolan (0) classified with accuracy: 0.265\n",
            "RepMarkTakano (0) classified with accuracy: 0.21\n",
            "RepDelBene (0) classified with accuracy: 0.245\n",
            "RepCummings (0) classified with accuracy: 0.21\n",
            "LacyClayMO1 (0) classified with accuracy: 0.215\n",
            "RepBonamici (0) classified with accuracy: 0.235\n",
            "BettyMcCollum04 (0) classified with accuracy: 0.26\n",
            "RepCicilline (0) classified with accuracy: 0.255\n",
            "RepRichardNeal (0) classified with accuracy: 0.265\n",
            "Call_Me_Dutch (0) classified with accuracy: 0.24\n",
            "RepZoeLofgren (0) classified with accuracy: 0.25\n",
            "RepKarenBass (0) classified with accuracy: 0.3\n",
            "JohnCarneyDE (0) classified with accuracy: 0.21\n",
            "RepVisclosky (0) classified with accuracy: 0.2386\n",
            "RepDavidEPrice (0) classified with accuracy: 0.225\n",
            "RepBrady (0) classified with accuracy: 0.17\n",
            "RepJimMcDermott (0) classified with accuracy: 0.235\n",
            "RepSheaPorter (0) classified with accuracy: 0.195\n",
            "mikecapuano (0) classified with accuracy: 0.22\n",
            "louiseslaughter (0) classified with accuracy: 0.205\n",
            "JuliaBrownley (0) classified with accuracy: 0.22\n",
            "RepJerryNadler (0) classified with accuracy: 0.295\n",
            "USRepMikeDoyle (0) classified with accuracy: 0.27\n",
            "DorisMatsui (0) classified with accuracy: 0.25\n",
            "RepGutierrez (0) classified with accuracy: 0.22\n",
            "RepAdamSchiff (0) classified with accuracy: 0.27\n",
            "janschakowsky (0) classified with accuracy: 0.29\n",
            "EleanorNorton (0) classified with accuracy: 0.17\n",
            "RepGwenMoore (0) classified with accuracy: 0.22\n",
            "cbrangel (0) classified with accuracy: 0.19\n",
            "RepSchrader (0) classified with accuracy: 0.23\n",
            "JimLangevin (0) classified with accuracy: 0.205\n",
            "RepTimRyan (0) classified with accuracy: 0.23\n",
            "\n",
            "Accuracy of the model on a per-Congressperson-basis was: 0.5172\n"
          ],
          "name": "stdout"
        }
      ]
    },
    {
      "cell_type": "code",
      "metadata": {
        "colab": {
          "base_uri": "https://localhost:8080/"
        },
        "id": "1sw0nJAqX31t",
        "outputId": "37220839-a98c-4b90-96b5-748e632504bb"
      },
      "source": [
        "from sklearn.ensemble import AdaBoostClassifier\n",
        "nb_pipeline = Pipeline([\n",
        "    ('vectorize', TfidfVectorizer(tokenizer=tokenizer.tokenize)),\n",
        "    ('classifier', AdaBoostClassifier(n_estimators = 100))\n",
        "])\n",
        "nb_pipeline.fit(train.Tweets, train.Class)\n",
        "preds = nb_pipeline.predict(test.Tweets)\n",
        "print('Accuracy: {}'.format(str(round(accuracy_score(test.Class, preds), 4))))"
      ],
      "execution_count": 64,
      "outputs": [
        {
          "output_type": "stream",
          "text": [
            "Accuracy: 0.6077\n"
          ],
          "name": "stdout"
        }
      ]
    },
    {
      "cell_type": "code",
      "metadata": {
        "colab": {
          "base_uri": "https://localhost:8080/"
        },
        "id": "zgaHoPFFYLfZ",
        "outputId": "3bb284e0-ee5a-4523-8255-ae4786b0161e"
      },
      "source": [
        "accuracy_df = test.drop(['Tweets'], axis=1)\n",
        "accuracy_df['preds'] = preds\n",
        "correct = 0\n",
        "total = 0\n",
        "print(\"Congresspersons whose tweets were mostly mis-classified:\")\n",
        "for name in accuracy_df.Handle.unique():\n",
        "    sub_df = accuracy_df[accuracy_df.Handle == name].reset_index()\n",
        "    sub_preds = sub_df.preds.value_counts()\n",
        "    if sub_preds.index[0] == sub_df.Class[0]:\n",
        "        correct += 1\n",
        "    total += 1\n",
        "    if sub_preds[sub_df.Class[0]]/len(sub_df) < 0.5:\n",
        "        print(\"{} ({}) classified with accuracy: {}\".format(name, sub_df.Class[0],str(round(sub_preds[sub_df.Class[0]]/len(sub_df), 4))))\n",
        "print()\n",
        "print(\"Accuracy of the model on a per-Congressperson-basis was: {}\".format(str(round(correct/total, 4))))"
      ],
      "execution_count": 65,
      "outputs": [
        {
          "output_type": "stream",
          "text": [
            "Congresspersons whose tweets were mostly mis-classified:\n",
            "RepArrington (1) classified with accuracy: 0.31\n",
            "RepJimBanks (1) classified with accuracy: 0.32\n",
            "RepBrianMast (1) classified with accuracy: 0.33\n",
            "RepTomMacArthur (1) classified with accuracy: 0.285\n",
            "RepStefanik (1) classified with accuracy: 0.335\n",
            "RepRyanCostello (1) classified with accuracy: 0.27\n",
            "RepRyanZinke (1) classified with accuracy: 0.395\n",
            "RepPoliquin (1) classified with accuracy: 0.34\n",
            "RepTomEmmer (1) classified with accuracy: 0.37\n",
            "repdavetrott (1) classified with accuracy: 0.44\n",
            "USRepGaryPalmer (1) classified with accuracy: 0.45\n",
            "RepCurbelo (1) classified with accuracy: 0.175\n",
            "RepLeeZeldin (1) classified with accuracy: 0.27\n",
            "RepJasonSmith (1) classified with accuracy: 0.38\n",
            "USRepLong (1) classified with accuracy: 0.475\n",
            "RepJBridenstine (1) classified with accuracy: 0.38\n",
            "RepTedYoho (1) classified with accuracy: 0.495\n",
            "reppittenger (1) classified with accuracy: 0.49\n",
            "RepKevinYoder (1) classified with accuracy: 0.275\n",
            "RepEdRoyce (1) classified with accuracy: 0.425\n",
            "RepTipton (1) classified with accuracy: 0.495\n",
            "TGowdySC (1) classified with accuracy: 0.395\n",
            "RepChuck (1) classified with accuracy: 0.48\n",
            "RepMGriffith (1) classified with accuracy: 0.245\n",
            "RepSeanDuffy (1) classified with accuracy: 0.435\n",
            "RepMikeTurner (1) classified with accuracy: 0.455\n",
            "repdonyoung (1) classified with accuracy: 0.27\n",
            "RepMikeRogersAL (1) classified with accuracy: 0.41\n",
            "RepGusBilirakis (1) classified with accuracy: 0.325\n",
            "congbillposey (1) classified with accuracy: 0.46\n",
            "TomRooney (1) classified with accuracy: 0.24\n",
            "HouseScience (1) classified with accuracy: 0.195\n",
            "KenCalvert (1) classified with accuracy: 0.315\n",
            "DanaRohrabacher (1) classified with accuracy: 0.0603\n",
            "davereichert (1) classified with accuracy: 0.27\n",
            "LamarSmithTX21 (1) classified with accuracy: 0.455\n",
            "RepShimkus (1) classified with accuracy: 0.4\n",
            "\n",
            "Accuracy of the model on a per-Congressperson-basis was: 0.5747\n"
          ],
          "name": "stdout"
        }
      ]
    },
    {
      "cell_type": "code",
      "metadata": {
        "colab": {
          "base_uri": "https://localhost:8080/"
        },
        "id": "FbJ8MR6_Yr-Z",
        "outputId": "7603fb64-5d2f-461e-c329-492b00013ff6"
      },
      "source": [
        "from sklearn.ensemble import RandomForestClassifier\n",
        "nb_pipeline = Pipeline([\n",
        "    ('vectorize', TfidfVectorizer(tokenizer=tokenizer.tokenize)),\n",
        "    ('classifier', RandomForestClassifier(n_estimators = 10, max_depth = None, min_samples_split = 2, random_state = 37))\n",
        "])\n",
        "nb_pipeline.fit(train.Tweets, train.Class)\n",
        "preds = nb_pipeline.predict(test.Tweets)\n",
        "print('Accuracy: {}'.format(str(round(accuracy_score(test.Class, preds), 4))))"
      ],
      "execution_count": 66,
      "outputs": [
        {
          "output_type": "stream",
          "text": [
            "Accuracy: 0.6769\n"
          ],
          "name": "stdout"
        }
      ]
    },
    {
      "cell_type": "code",
      "metadata": {
        "colab": {
          "base_uri": "https://localhost:8080/"
        },
        "id": "q5cGMgonZEmu",
        "outputId": "70d09d79-78bc-49a3-cd0d-5e730ddb7af8"
      },
      "source": [
        "accuracy_df = test.drop(['Tweets'], axis=1)\n",
        "accuracy_df['preds'] = preds\n",
        "correct = 0\n",
        "total = 0\n",
        "print(\"Congresspersons whose tweets were mostly mis-classified:\")\n",
        "for name in accuracy_df.Handle.unique():\n",
        "    sub_df = accuracy_df[accuracy_df.Handle == name].reset_index()\n",
        "    sub_preds = sub_df.preds.value_counts()\n",
        "    if sub_preds.index[0] == sub_df.Class[0]:\n",
        "        correct += 1\n",
        "    total += 1\n",
        "    if sub_preds[sub_df.Class[0]]/len(sub_df) < 0.5:\n",
        "        print(\"{} ({}) classified with accuracy: {}\".format(name, sub_df.Class[0],str(round(sub_preds[sub_df.Class[0]]/len(sub_df), 4))))\n",
        "print()\n",
        "print(\"Accuracy of the model on a per-Congressperson-basis was: {}\".format(str(round(correct/total, 4))))"
      ],
      "execution_count": 67,
      "outputs": [
        {
          "output_type": "stream",
          "text": [
            "Congresspersons whose tweets were mostly mis-classified:\n",
            "RepVisclosky (0) classified with accuracy: 0.467\n",
            "RepSchrader (0) classified with accuracy: 0.49\n",
            "RepCurbelo (1) classified with accuracy: 0.405\n",
            "DanaRohrabacher (1) classified with accuracy: 0.2412\n",
            "\n",
            "Accuracy of the model on a per-Congressperson-basis was: 0.954\n"
          ],
          "name": "stdout"
        }
      ]
    },
    {
      "cell_type": "code",
      "metadata": {
        "id": "kL3-awAMrNb-"
      },
      "source": [
        "t_tweets = df.Tweets.values\n",
        "t_tweets = t_tweets.tolist()\n",
        "t_words = str(t_tweets).split()\n",
        "from nltk.probability import FreqDist\n",
        "t_words_list = FreqDist(democrat_words)"
      ],
      "execution_count": 68,
      "outputs": []
    },
    {
      "cell_type": "code",
      "metadata": {
        "id": "VFjPoZO6uoEX"
      },
      "source": [
        "x = t_words_list.most_common(45340)"
      ],
      "execution_count": 69,
      "outputs": []
    },
    {
      "cell_type": "code",
      "metadata": {
        "colab": {
          "base_uri": "https://localhost:8080/"
        },
        "id": "OueQ92Igvp_b",
        "outputId": "cfeda144-8f75-49e1-b1d3-3a49256b7d47"
      },
      "source": [
        "for i in range(45340):\n",
        "  if x[i][1]<100:\n",
        "    print(i)\n",
        "    break;\n",
        "N_words = i"
      ],
      "execution_count": 70,
      "outputs": [
        {
          "output_type": "stream",
          "text": [
            "836\n"
          ],
          "name": "stdout"
        }
      ]
    },
    {
      "cell_type": "code",
      "metadata": {
        "colab": {
          "base_uri": "https://localhost:8080/"
        },
        "id": "wT5d1zE2o6oH",
        "outputId": "f1adf63e-c213-48ff-a432-618be298eec7"
      },
      "source": [
        "corpus = df.Tweets\n",
        "vectorizer = TfidfVectorizer(max_features=N_words)\n",
        "X = vectorizer.fit_transform(corpus)\n",
        "print(X.shape)"
      ],
      "execution_count": 71,
      "outputs": [
        {
          "output_type": "stream",
          "text": [
            "(86460, 836)\n"
          ],
          "name": "stdout"
        }
      ]
    },
    {
      "cell_type": "code",
      "metadata": {
        "colab": {
          "base_uri": "https://localhost:8080/"
        },
        "id": "j_YjJMsd25OG",
        "outputId": "e29ff7d0-fcca-4517-fcd8-baee1f000447"
      },
      "source": [
        "type(X)"
      ],
      "execution_count": 72,
      "outputs": [
        {
          "output_type": "execute_result",
          "data": {
            "text/plain": [
              "scipy.sparse.csr.csr_matrix"
            ]
          },
          "metadata": {
            "tags": []
          },
          "execution_count": 72
        }
      ]
    },
    {
      "cell_type": "code",
      "metadata": {
        "id": "9IZEaUgi3J9V"
      },
      "source": [
        "X =X.toarray()"
      ],
      "execution_count": 73,
      "outputs": []
    },
    {
      "cell_type": "code",
      "metadata": {
        "colab": {
          "base_uri": "https://localhost:8080/"
        },
        "id": "3GzUCuRj0rGR",
        "outputId": "34d479e3-3807-4232-c866-a9f122d98155"
      },
      "source": [
        "y = df.Class\n",
        "print(y.shape)"
      ],
      "execution_count": 74,
      "outputs": [
        {
          "output_type": "stream",
          "text": [
            "(86460,)\n"
          ],
          "name": "stdout"
        }
      ]
    },
    {
      "cell_type": "code",
      "metadata": {
        "id": "m3gTHk5PxmtM"
      },
      "source": [
        "from keras.models import Sequential\n",
        "from keras.layers import Embedding, SimpleRNN\n",
        "from keras.layers import Dense\n",
        "from keras.layers import LSTM\n",
        "\n",
        "model = Sequential()\n",
        "\n",
        "model.add(Embedding(N_words+1,128))\n",
        "model.add(LSTM(8))\n",
        "model.add(Dense(8,activation='relu'))\n",
        "model.add(Dense(1,activation='sigmoid'))\n",
        "model.compile(optimizer='rmsprop',\n",
        "             loss='binary_crossentropy',\n",
        "             metrics=['acc'])"
      ],
      "execution_count": 75,
      "outputs": []
    },
    {
      "cell_type": "code",
      "metadata": {
        "colab": {
          "base_uri": "https://localhost:8080/"
        },
        "id": "8bgNkMKs1G-s",
        "outputId": "758b3b3c-bfd5-44d3-e466-c3f12bd36fa9"
      },
      "source": [
        "model.summary()"
      ],
      "execution_count": 76,
      "outputs": [
        {
          "output_type": "stream",
          "text": [
            "Model: \"sequential\"\n",
            "_________________________________________________________________\n",
            "Layer (type)                 Output Shape              Param #   \n",
            "=================================================================\n",
            "embedding (Embedding)        (None, None, 128)         107136    \n",
            "_________________________________________________________________\n",
            "lstm (LSTM)                  (None, 8)                 4384      \n",
            "_________________________________________________________________\n",
            "dense (Dense)                (None, 8)                 72        \n",
            "_________________________________________________________________\n",
            "dense_1 (Dense)              (None, 1)                 9         \n",
            "=================================================================\n",
            "Total params: 111,601\n",
            "Trainable params: 111,601\n",
            "Non-trainable params: 0\n",
            "_________________________________________________________________\n"
          ],
          "name": "stdout"
        }
      ]
    },
    {
      "cell_type": "code",
      "metadata": {
        "id": "gi-H67Ir2aJs"
      },
      "source": [
        "import numpy as np\n"
      ],
      "execution_count": 77,
      "outputs": []
    },
    {
      "cell_type": "code",
      "metadata": {
        "colab": {
          "base_uri": "https://localhost:8080/"
        },
        "id": "x_788ZX92J7V",
        "outputId": "9dbdc419-9073-413b-c3a6-510a06b76c6b"
      },
      "source": [
        "rand_perm=np.random.permutation(len(y))\n",
        "history = model.fit(X[rand_perm,:], y[rand_perm],epochs=10,batch_size=128,validation_split=.2)"
      ],
      "execution_count": 78,
      "outputs": [
        {
          "output_type": "stream",
          "text": [
            "Epoch 1/10\n",
            "541/541 [==============================] - 43s 65ms/step - loss: 0.6930 - acc: 0.5105 - val_loss: 0.6928 - val_acc: 0.5136\n",
            "Epoch 2/10\n",
            "541/541 [==============================] - 34s 63ms/step - loss: 0.6928 - acc: 0.5139 - val_loss: 0.6928 - val_acc: 0.5136\n",
            "Epoch 3/10\n",
            "541/541 [==============================] - 34s 64ms/step - loss: 0.6927 - acc: 0.5151 - val_loss: 0.6928 - val_acc: 0.5136\n",
            "Epoch 4/10\n",
            "541/541 [==============================] - 35s 64ms/step - loss: 0.6929 - acc: 0.5112 - val_loss: 0.6928 - val_acc: 0.5136\n",
            "Epoch 5/10\n",
            "541/541 [==============================] - 35s 64ms/step - loss: 0.6927 - acc: 0.5150 - val_loss: 0.6928 - val_acc: 0.5136\n",
            "Epoch 6/10\n",
            "541/541 [==============================] - 34s 63ms/step - loss: 0.6929 - acc: 0.5113 - val_loss: 0.6928 - val_acc: 0.5136\n",
            "Epoch 7/10\n",
            "541/541 [==============================] - 35s 65ms/step - loss: 0.6929 - acc: 0.5114 - val_loss: 0.6928 - val_acc: 0.5136\n",
            "Epoch 8/10\n",
            "541/541 [==============================] - 35s 65ms/step - loss: 0.6926 - acc: 0.5169 - val_loss: 0.6928 - val_acc: 0.5136\n",
            "Epoch 9/10\n",
            "541/541 [==============================] - 34s 64ms/step - loss: 0.6928 - acc: 0.5130 - val_loss: 0.6928 - val_acc: 0.5136\n",
            "Epoch 10/10\n",
            "541/541 [==============================] - 35s 64ms/step - loss: 0.6928 - acc: 0.5138 - val_loss: 0.6928 - val_acc: 0.5136\n"
          ],
          "name": "stdout"
        }
      ]
    },
    {
      "cell_type": "markdown",
      "metadata": {
        "id": "NIqlQeI18B8v"
      },
      "source": [
        "Approach Not working due to Large number of Features"
      ]
    },
    {
      "cell_type": "code",
      "metadata": {
        "id": "2-C0bguGFITD"
      },
      "source": [
        "top_words = 10000  # We'll keep these many distinct tokens and drop less frequent ones\n",
        "# Tokenize using the TweetTokenizer\n",
        "df.Tweets = df.Tweets.apply(tokenizer.tokenize)\n",
        "# Get the word counts\n",
        "fdist = FreqDist(word for tweet in df.Tweets for word in tweet)\n",
        "# Get top top_words terms, in order of frequency\n",
        "terms = [term for term, count in fdist.most_common(top_words)]\n",
        "# Replace all tokens with their rank (or 0 if not in the top top_words)\n",
        "df['tokens'] = df.Tweets.apply(lambda tweet: [terms.index(term) if term in terms else 0 for term in tweet])"
      ],
      "execution_count": 79,
      "outputs": []
    },
    {
      "cell_type": "code",
      "metadata": {
        "colab": {
          "base_uri": "https://localhost:8080/",
          "height": 335
        },
        "id": "V8koK8IB9_ne",
        "outputId": "9c00b2ab-9401-4a45-d26d-8618e3f33160"
      },
      "source": [
        "df.head(10)"
      ],
      "execution_count": 80,
      "outputs": [
        {
          "output_type": "execute_result",
          "data": {
            "text/html": [
              "<div>\n",
              "<style scoped>\n",
              "    .dataframe tbody tr th:only-of-type {\n",
              "        vertical-align: middle;\n",
              "    }\n",
              "\n",
              "    .dataframe tbody tr th {\n",
              "        vertical-align: top;\n",
              "    }\n",
              "\n",
              "    .dataframe thead th {\n",
              "        text-align: right;\n",
              "    }\n",
              "</style>\n",
              "<table border=\"1\" class=\"dataframe\">\n",
              "  <thead>\n",
              "    <tr style=\"text-align: right;\">\n",
              "      <th></th>\n",
              "      <th>Party</th>\n",
              "      <th>Handle</th>\n",
              "      <th>Tweets</th>\n",
              "      <th>Class</th>\n",
              "      <th>tokens</th>\n",
              "    </tr>\n",
              "  </thead>\n",
              "  <tbody>\n",
              "    <tr>\n",
              "      <th>0</th>\n",
              "      <td>Democrat</td>\n",
              "      <td>RepDarrenSoto</td>\n",
              "      <td>[today, senate, dems, vote, savetheinternet, proud, support, similar, netneutrality, legislation, house]</td>\n",
              "      <td>0</td>\n",
              "      <td>[1, 145, 856, 71, 2541, 32, 31, 2643, 562, 96, 7]</td>\n",
              "    </tr>\n",
              "    <tr>\n",
              "      <th>1</th>\n",
              "      <td>Democrat</td>\n",
              "      <td>RepDarrenSoto</td>\n",
              "      <td>[winterhavensun, winter, resident, alta, vista, teacher, one, several, recognized, repdarrensoto, national, teacher, apprecia]</td>\n",
              "      <td>0</td>\n",
              "      <td>[0, 1719, 406, 0, 4463, 244, 27, 822, 1126, 1558, 43, 244, 0]</td>\n",
              "    </tr>\n",
              "    <tr>\n",
              "      <th>2</th>\n",
              "      <td>Democrat</td>\n",
              "      <td>RepDarrenSoto</td>\n",
              "      <td>[nbclatino, repdarrensoto, noted, hurricane, maria, left, approximately, billion, damage, congress, allocated]</td>\n",
              "      <td>0</td>\n",
              "      <td>[8671, 1558, 7610, 634, 2297, 694, 4728, 269, 1204, 18, 9354]</td>\n",
              "    </tr>\n",
              "    <tr>\n",
              "      <th>3</th>\n",
              "      <td>Democrat</td>\n",
              "      <td>RepDarrenSoto</td>\n",
              "      <td>[nalcabpolicy, meeting, repdarrensoto, thanks, taking, time, meet, latinoleader, ed, marucci, guzman, nalcabpolicy]</td>\n",
              "      <td>0</td>\n",
              "      <td>[0, 49, 1558, 26, 266, 13, 125, 0, 457, 0, 0, 0]</td>\n",
              "    </tr>\n",
              "    <tr>\n",
              "      <th>4</th>\n",
              "      <td>Democrat</td>\n",
              "      <td>RepDarrenSoto</td>\n",
              "      <td>[vegalteno, hurricane, season, start, june, st, puerto, rico, readiness, well, pwr, puertorico, repdarrensoto, espaillatny]</td>\n",
              "      <td>0</td>\n",
              "      <td>[0, 634, 809, 310, 2021, 173, 849, 973, 1633, 306, 0, 1168, 1558, 0]</td>\n",
              "    </tr>\n",
              "    <tr>\n",
              "      <th>5</th>\n",
              "      <td>Democrat</td>\n",
              "      <td>RepDarrenSoto</td>\n",
              "      <td>[emgageactionfl, thank, came, orlando, gala, successful, night, would, possible, without]</td>\n",
              "      <td>0</td>\n",
              "      <td>[0, 6, 554, 2022, 3047, 1276, 188, 72, 1127, 407]</td>\n",
              "    </tr>\n",
              "    <tr>\n",
              "      <th>6</th>\n",
              "      <td>Democrat</td>\n",
              "      <td>RepDarrenSoto</td>\n",
              "      <td>[hurricane, maria, left, approx, billion, damage, yet, billion, allocated, rebuilding, grid, surpr]</td>\n",
              "      <td>0</td>\n",
              "      <td>[634, 2297, 694, 6212, 269, 1204, 472, 269, 9354, 1949, 4464, 0]</td>\n",
              "    </tr>\n",
              "    <tr>\n",
              "      <th>7</th>\n",
              "      <td>Democrat</td>\n",
              "      <td>RepDarrenSoto</td>\n",
              "      <td>[tharryry, delighted, repdarrensoto, voting, cra, overrule, fcc, save, netneutrality, rule, find]</td>\n",
              "      <td>0</td>\n",
              "      <td>[0, 2772, 1558, 495, 4323, 0, 716, 514, 562, 280, 254]</td>\n",
              "    </tr>\n",
              "    <tr>\n",
              "      <th>8</th>\n",
              "      <td>Democrat</td>\n",
              "      <td>RepDarrenSoto</td>\n",
              "      <td>[hispaniccaucus, trump, anti, immigrant, policy, hurting, small, business, across, country, find, american, willing]</td>\n",
              "      <td>0</td>\n",
              "      <td>[908, 12, 625, 467, 160, 3375, 110, 54, 94, 51, 254, 4, 1619]</td>\n",
              "    </tr>\n",
              "    <tr>\n",
              "      <th>9</th>\n",
              "      <td>Democrat</td>\n",
              "      <td>RepDarrenSoto</td>\n",
              "      <td>[repstephmurphy, great, joining, weareunidosus, repdarrensoto, roundtable, orlando, federal, issue, affecting, central, florid]</td>\n",
              "      <td>0</td>\n",
              "      <td>[2573, 3, 204, 8672, 1558, 823, 2022, 95, 123, 2878, 546, 0]</td>\n",
              "    </tr>\n",
              "  </tbody>\n",
              "</table>\n",
              "</div>"
            ],
            "text/plain": [
              "      Party  ...                                                                tokens\n",
              "0  Democrat  ...  [1, 145, 856, 71, 2541, 32, 31, 2643, 562, 96, 7]                   \n",
              "1  Democrat  ...  [0, 1719, 406, 0, 4463, 244, 27, 822, 1126, 1558, 43, 244, 0]       \n",
              "2  Democrat  ...  [8671, 1558, 7610, 634, 2297, 694, 4728, 269, 1204, 18, 9354]       \n",
              "3  Democrat  ...  [0, 49, 1558, 26, 266, 13, 125, 0, 457, 0, 0, 0]                    \n",
              "4  Democrat  ...  [0, 634, 809, 310, 2021, 173, 849, 973, 1633, 306, 0, 1168, 1558, 0]\n",
              "5  Democrat  ...  [0, 6, 554, 2022, 3047, 1276, 188, 72, 1127, 407]                   \n",
              "6  Democrat  ...  [634, 2297, 694, 6212, 269, 1204, 472, 269, 9354, 1949, 4464, 0]    \n",
              "7  Democrat  ...  [0, 2772, 1558, 495, 4323, 0, 716, 514, 562, 280, 254]              \n",
              "8  Democrat  ...  [908, 12, 625, 467, 160, 3375, 110, 54, 94, 51, 254, 4, 1619]       \n",
              "9  Democrat  ...  [2573, 3, 204, 8672, 1558, 823, 2022, 95, 123, 2878, 546, 0]        \n",
              "\n",
              "[10 rows x 5 columns]"
            ]
          },
          "metadata": {
            "tags": []
          },
          "execution_count": 80
        }
      ]
    },
    {
      "cell_type": "code",
      "metadata": {
        "colab": {
          "base_uri": "https://localhost:8080/"
        },
        "id": "VvaDLni2BB2c",
        "outputId": "abda3bcf-dbc6-46b2-ee79-68ef925fcde7"
      },
      "source": [
        "len(df)"
      ],
      "execution_count": 81,
      "outputs": [
        {
          "output_type": "execute_result",
          "data": {
            "text/plain": [
              "86460"
            ]
          },
          "metadata": {
            "tags": []
          },
          "execution_count": 81
        }
      ]
    },
    {
      "cell_type": "code",
      "metadata": {
        "id": "7cFpNtlzBHJV"
      },
      "source": [
        "tweeters = df.iloc[:,:2].drop_duplicates()\n",
        "handles_train, handles_test = train_test_split(tweeters.Handle, stratify=tweeters.Party, test_size=0.2, random_state=0)\n",
        "\n",
        "\n",
        "train = df[df.Handle.isin(handles_train)].reset_index().drop('index', axis=1)\n",
        "test = df[df.Handle.isin(handles_test)].reset_index().drop('index', axis=1)"
      ],
      "execution_count": 82,
      "outputs": []
    },
    {
      "cell_type": "code",
      "metadata": {
        "id": "lBVyPtAJC4nm"
      },
      "source": [
        "l=[]\n",
        "for i in df.tokens:\n",
        "  l.append(len(i))\n",
        "  "
      ],
      "execution_count": 83,
      "outputs": []
    },
    {
      "cell_type": "code",
      "metadata": {
        "colab": {
          "base_uri": "https://localhost:8080/"
        },
        "id": "5SfoOOt6EIXp",
        "outputId": "59c77d75-c2d2-42e4-9599-c0814274e9a7"
      },
      "source": [
        "max(l)"
      ],
      "execution_count": 84,
      "outputs": [
        {
          "output_type": "execute_result",
          "data": {
            "text/plain": [
              "26"
            ]
          },
          "metadata": {
            "tags": []
          },
          "execution_count": 84
        }
      ]
    },
    {
      "cell_type": "code",
      "metadata": {
        "id": "xfhj29jBETd9"
      },
      "source": [
        "X_train = np.array(train.tokens)\n",
        "y_train = np.array((train.Class).astype(int))\n",
        "X_test = np.array(test.tokens)\n",
        "y_test = np.array((test.Class).astype(int))"
      ],
      "execution_count": 85,
      "outputs": []
    },
    {
      "cell_type": "code",
      "metadata": {
        "colab": {
          "base_uri": "https://localhost:8080/"
        },
        "id": "tsbNocpQWg-G",
        "outputId": "5434e959-ef8a-44a7-acb5-cbaacceb96f0"
      },
      "source": [
        "y_train"
      ],
      "execution_count": 86,
      "outputs": [
        {
          "output_type": "execute_result",
          "data": {
            "text/plain": [
              "array([0, 0, 0, ..., 1, 1, 1])"
            ]
          },
          "metadata": {
            "tags": []
          },
          "execution_count": 86
        }
      ]
    },
    {
      "cell_type": "code",
      "metadata": {
        "id": "jMZuHtASOFPu"
      },
      "source": [
        "from keras.preprocessing import sequence"
      ],
      "execution_count": 87,
      "outputs": []
    },
    {
      "cell_type": "code",
      "metadata": {
        "colab": {
          "base_uri": "https://localhost:8080/"
        },
        "id": "cwwxFnhIQeUp",
        "outputId": "0ad10901-d06b-4c2d-b4ad-59f20ad32d1e"
      },
      "source": [
        "X_train[0]"
      ],
      "execution_count": 88,
      "outputs": [
        {
          "output_type": "execute_result",
          "data": {
            "text/plain": [
              "[1, 145, 856, 71, 2541, 32, 31, 2643, 562, 96, 7]"
            ]
          },
          "metadata": {
            "tags": []
          },
          "execution_count": 88
        }
      ]
    },
    {
      "cell_type": "code",
      "metadata": {
        "id": "9VZTaTXONzgh"
      },
      "source": [
        "X_train=sequence.pad_sequences(X_train, maxlen=26)\n",
        "X_test = sequence.pad_sequences(X_test, maxlen=26)"
      ],
      "execution_count": 89,
      "outputs": []
    },
    {
      "cell_type": "code",
      "metadata": {
        "id": "jnj14BNhRVnS"
      },
      "source": [
        "from keras.models import Sequential\n",
        "from keras.layers import Dense\n",
        "from keras.layers import LSTM\n",
        "from keras.layers.convolutional import Conv1D\n",
        "from keras.layers.convolutional import MaxPooling1D\n",
        "from keras.layers.embeddings import Embedding"
      ],
      "execution_count": 90,
      "outputs": []
    },
    {
      "cell_type": "code",
      "metadata": {
        "colab": {
          "base_uri": "https://localhost:8080/"
        },
        "id": "mRIpRZNDOAIY",
        "outputId": "0dc55f5f-e9b9-4de6-a2dd-882636c57493"
      },
      "source": [
        "embedding_vecor_length = 32\n",
        "model = Sequential()\n",
        "model.add(Embedding(top_words, embedding_vecor_length, input_length=26))\n",
        "model.add(Conv1D(filters=32, kernel_size=3, padding='same', activation='relu'))\n",
        "model.add(MaxPooling1D(pool_size=2))\n",
        "model.add(LSTM(100))\n",
        "model.add(Dense(1, activation='sigmoid'))\n",
        "model.compile(loss='binary_crossentropy', optimizer='adam', metrics=['accuracy'])\n",
        "print(model.summary())\n",
        "model.fit(X_train, y_train, epochs=10, batch_size=128)\n",
        "scores = model.evaluate(X_test, y_test, verbose=0)\n",
        "print(\"Accuracy: %.2f%%\" % (scores[1]*100))"
      ],
      "execution_count": 91,
      "outputs": [
        {
          "output_type": "stream",
          "text": [
            "Model: \"sequential_1\"\n",
            "_________________________________________________________________\n",
            "Layer (type)                 Output Shape              Param #   \n",
            "=================================================================\n",
            "embedding_1 (Embedding)      (None, 26, 32)            320000    \n",
            "_________________________________________________________________\n",
            "conv1d (Conv1D)              (None, 26, 32)            3104      \n",
            "_________________________________________________________________\n",
            "max_pooling1d (MaxPooling1D) (None, 13, 32)            0         \n",
            "_________________________________________________________________\n",
            "lstm_1 (LSTM)                (None, 100)               53200     \n",
            "_________________________________________________________________\n",
            "dense_2 (Dense)              (None, 1)                 101       \n",
            "=================================================================\n",
            "Total params: 376,405\n",
            "Trainable params: 376,405\n",
            "Non-trainable params: 0\n",
            "_________________________________________________________________\n",
            "None\n",
            "Epoch 1/10\n",
            "540/540 [==============================] - 6s 8ms/step - loss: 0.5642 - accuracy: 0.6745\n",
            "Epoch 2/10\n",
            "540/540 [==============================] - 4s 8ms/step - loss: 0.3601 - accuracy: 0.8291\n",
            "Epoch 3/10\n",
            "540/540 [==============================] - 4s 8ms/step - loss: 0.3019 - accuracy: 0.8593\n",
            "Epoch 4/10\n",
            "540/540 [==============================] - 4s 7ms/step - loss: 0.2292 - accuracy: 0.8972\n",
            "Epoch 5/10\n",
            "540/540 [==============================] - 4s 8ms/step - loss: 0.1500 - accuracy: 0.9373\n",
            "Epoch 6/10\n",
            "540/540 [==============================] - 4s 8ms/step - loss: 0.0915 - accuracy: 0.9626\n",
            "Epoch 7/10\n",
            "540/540 [==============================] - 4s 8ms/step - loss: 0.0605 - accuracy: 0.9768\n",
            "Epoch 8/10\n",
            "540/540 [==============================] - 4s 8ms/step - loss: 0.0438 - accuracy: 0.9830\n",
            "Epoch 9/10\n",
            "540/540 [==============================] - 4s 8ms/step - loss: 0.0353 - accuracy: 0.9864\n",
            "Epoch 10/10\n",
            "540/540 [==============================] - 4s 8ms/step - loss: 0.0303 - accuracy: 0.9883\n",
            "Accuracy: 70.47%\n"
          ],
          "name": "stdout"
        }
      ]
    },
    {
      "cell_type": "code",
      "metadata": {
        "colab": {
          "base_uri": "https://localhost:8080/"
        },
        "id": "jcg5Ibm64gxi",
        "outputId": "c2b6ad4e-a5d5-454f-aa78-9999506b2915"
      },
      "source": [
        "accuracy_df = test.drop(['Tweets'], axis=1)\n",
        "accuracy_df['preds'] = preds\n",
        "correct = 0\n",
        "total = 0\n",
        "print(\"Congresspersons whose tweets were mostly mis-classified:\")\n",
        "for name in accuracy_df.Handle.unique():\n",
        "    sub_df = accuracy_df[accuracy_df.Handle == name].reset_index()\n",
        "    sub_preds = sub_df.preds.value_counts()\n",
        "    if sub_preds.index[0] == sub_df.Class[0]:\n",
        "        correct += 1\n",
        "    total += 1\n",
        "    if sub_preds[sub_df.Class[0]]/len(sub_df) < 0.5:\n",
        "        print(\"{} ({}) classified with accuracy: {}\".format(name, sub_df.Class[0],str(round(sub_preds[sub_df.Class[0]]/len(sub_df), 4))))\n",
        "print()\n",
        "print(\"Accuracy of the model on a per-Congressperson-basis was: {}\".format(str(round(correct/total, 4))))"
      ],
      "execution_count": 94,
      "outputs": [
        {
          "output_type": "stream",
          "text": [
            "Congresspersons whose tweets were mostly mis-classified:\n",
            "RepVisclosky (0) classified with accuracy: 0.467\n",
            "RepSchrader (0) classified with accuracy: 0.49\n",
            "RepCurbelo (1) classified with accuracy: 0.405\n",
            "DanaRohrabacher (1) classified with accuracy: 0.2412\n",
            "\n",
            "Accuracy of the model on a per-Congressperson-basis was: 0.954\n"
          ],
          "name": "stdout"
        }
      ]
    },
    {
      "cell_type": "code",
      "metadata": {
        "id": "heUQQ4C845J9"
      },
      "source": [
        ""
      ],
      "execution_count": null,
      "outputs": []
    }
  ]
}